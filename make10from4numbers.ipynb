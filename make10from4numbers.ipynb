{
 "metadata": {
  "name": "",
  "signature": "sha256:fa4b948457a230156ff543241900014e2133f05ba8f1e71ae06e2b900fbd93b8"
 },
 "nbformat": 3,
 "nbformat_minor": 0,
 "worksheets": [
  {
   "cells": [
    {
     "cell_type": "heading",
     "level": 1,
     "metadata": {},
     "source": [
      "4\u3064\u306e\u6570\u5b57\u3068\u56db\u5247\u6f14\u7b97\u306710\u3092\u3064\u304f\u308b"
     ]
    },
    {
     "cell_type": "markdown",
     "metadata": {},
     "source": [
      "\u3053\u3063\u3061\u304c\u6b63\u3057\u3044\u3002"
     ]
    },
    {
     "cell_type": "markdown",
     "metadata": {},
     "source": [
      "\u306f\u3058\u3081\u304b\u3089\u6f14\u7b97\u5b50\u81ea\u4f53\u306b\u9806\u5e8f\u306e\u5dee\u3092\u4ed8\u3051\u308b\u3053\u3068\u3067\u7d44\u307f\u5408\u308f\u305b\u306e\u6570\u3092\u5927\u5e45\u306b\u6e1b\u3089\u305b\u308b\u3002\u7d50\u679c\u30d9\u30bf\u66f8\u304d\u306b\u306a\u308b\u90e8\u5206\u3082\u3042\u308b\u304c\u3001[\u4ee5\u524d\u306b\u4f5c\u6210\u3057\u305f\u3082\u306e](make10from4numbers_prot.ipynb)\u306b\u6bd4\u3079\u308b\u3068\u3001\u3059\u3079\u3066\u306e\u5834\u5408\u306b\u3064\u3044\u3066\u306e\u8a08\u7b97\u3067\u901f\u5ea6\u306b\u304b\u306a\u308a\u306e\u5dee\u304c\u51fa\u308b\u3002"
     ]
    },
    {
     "cell_type": "code",
     "collapsed": false,
     "input": [
      "from ipython_doctester import test\n",
      "from itertools import permutations, combinations, product\n",
      "from operator import add, sub, mul, div\n",
      "\n",
      "#@test\n",
      "def make10(q='1337', verbose=True):\n",
      "    \"\"\"Make 10 from 4 numbers(0~9).\n",
      "    \n",
      "    q : String, ex) 1337\n",
      "    verbose: Bool, display the result or not\n",
      "    \n",
      "    test code:\n",
      "    >>> make10()\n",
      "    ((7/3)+1)*3\n",
      "    True\n",
      "    \"\"\"\n",
      "    q = [float(i) for i in list(q)]\n",
      "\n",
      "    def rsub(a, b):\n",
      "        return sub(b, a)\n",
      "    def rdiv(a, b):\n",
      "        return div(b, a)\n",
      "    o = [add, sub, rsub, mul, div, rdiv]\n",
      "    o_k = ['+', '-', '-', '*', '/', '/']\n",
      "    O = [i for i in product(range(6), repeat=3)]\n",
      "    \n",
      "    TOL = 0.001\n",
      "    \n",
      "    res = []\n",
      "    \n",
      "    for o1, o2, o3 in O:\n",
      "        # ((a o1 b) o2 c) o3 d\n",
      "        X = []\n",
      "        for a, b in combinations([0, 1, 2, 3], 2):\n",
      "            t = [0, 1, 2, 3]\n",
      "            t.remove(a)\n",
      "            t.remove(b)\n",
      "            x = (q[a], q[b], q[t[0]], q[t[1]])\n",
      "            if not x in X:\n",
      "                X.append(x)\n",
      "            x = (q[a], q[b], q[t[1]], q[t[0]])\n",
      "            if not x in X:\n",
      "                X.append(x)\n",
      "        \n",
      "        for a, b, c, d in X:\n",
      "            try:\n",
      "                result = o[o3](o[o2](o[o1](a,b),c), d)\n",
      "            except ZeroDivisionError:\n",
      "                continue\n",
      "            if abs(result - 10) < TOL:\n",
      "                if o1 == 2 or o1 == 5:\n",
      "                    a, b = b, a\n",
      "                p1 = \"(%d%s%d)\" % (a, o_k[o1], b)\n",
      "                if o2 == 2 or o2 == 5:\n",
      "                    p2 = \"%d%s\" % (c, o_k[o2]) + p1\n",
      "                else:\n",
      "                    p2 = p1 + \"%s%d\" % (o_k[o2], c)\n",
      "                if o3 == 2 or o3 == 5:\n",
      "                    p = \"%d%s\" % (d, o_k[o3]) + \"(\" + p2 + \")\"\n",
      "                else:\n",
      "                    p = \"(\" + p2 + \")\" + \"%s%d\" % (o_k[o3], d)\n",
      "                res.append(p)\n",
      "        \n",
      "        # (a o1 b) o3 (c o2 d)\n",
      "        X = [\n",
      "            (q[0], q[1], q[2], q[3]),\n",
      "            (q[0], q[2], q[1], q[3]),\n",
      "            (q[0], q[3], q[1], q[2]),\n",
      "            ]\n",
      "        \n",
      "        for a, b, c, d in X:\n",
      "            try:\n",
      "                result = o[o3](o[o1](a, b), o[o2](c, d))\n",
      "            except ZeroDivisionError:\n",
      "                continue\n",
      "            if abs(result - 10) < TOL:\n",
      "                if o1 == 2 or o1 == 5:\n",
      "                    a, b = b, a\n",
      "                p1 = \"(%d%s%d)\" % (a, o_k[o1], b)\n",
      "                if o2 == 2 or o2 == 5:\n",
      "                    c, d = d, c\n",
      "                p2 = \"(%d%s%d)\" % (c, o_k[o2], d)\n",
      "                if o3 == 2 or o3 == 5:\n",
      "                    p = p2 + o_k[o3] + p1\n",
      "                else:\n",
      "                    p = p1 + o_k[o3] + p2\n",
      "                res.append(p)\n",
      "        \n",
      "    if verbose:\n",
      "        for r in res:\n",
      "            print r\n",
      "        \n",
      "    if len(res) > 0:\n",
      "        return True\n",
      "    else:\n",
      "        return False"
     ],
     "language": "python",
     "metadata": {},
     "outputs": [],
     "prompt_number": 1
    },
    {
     "cell_type": "code",
     "collapsed": false,
     "input": [
      "make10('1337')"
     ],
     "language": "python",
     "metadata": {},
     "outputs": [
      {
       "output_type": "stream",
       "stream": "stdout",
       "text": [
        "((7/3)+1)*3\n"
       ]
      },
      {
       "metadata": {},
       "output_type": "pyout",
       "prompt_number": 2,
       "text": [
        "True"
       ]
      }
     ],
     "prompt_number": 2
    },
    {
     "cell_type": "code",
     "collapsed": false,
     "input": [
      "import itertools\n",
      "A = [''.join(i) for i in \n",
      "     itertools.combinations_with_replacement(\n",
      "            [str(x) for x in range(10)], 4)]\n",
      "index_A = [make10(a, verbose=False) for a in A]"
     ],
     "language": "python",
     "metadata": {},
     "outputs": [],
     "prompt_number": 5
    },
    {
     "cell_type": "code",
     "collapsed": false,
     "input": [
      "false = [a for i,a in enumerate(A) if not index_A[i]]"
     ],
     "language": "python",
     "metadata": {},
     "outputs": [],
     "prompt_number": 6
    },
    {
     "cell_type": "code",
     "collapsed": false,
     "input": [
      "print len(false), false"
     ],
     "language": "python",
     "metadata": {},
     "outputs": [
      {
       "output_type": "stream",
       "stream": "stdout",
       "text": [
        "163 ['0000', '0001', '0002', '0003', '0004', '0005', '0006', '0007', '0008', '0009', '0011', '0012', '0013', '0014', '0015', '0016', '0017', '0018', '0022', '0023', '0024', '0026', '0027', '0029', '0033', '0034', '0035', '0036', '0038', '0039', '0044', '0045', '0047', '0048', '0049', '0056', '0057', '0058', '0059', '0066', '0067', '0068', '0069', '0077', '0078', '0079', '0088', '0089', '0099', '0111', '0112', '0113', '0114', '0116', '0117', '0122', '0123', '0134', '0144', '0148', '0157', '0158', '0166', '0167', '0168', '0177', '0178', '0188', '0222', '0233', '0236', '0269', '0277', '0279', '0299', '0333', '0335', '0336', '0338', '0344', '0345', '0348', '0359', '0366', '0369', '0388', '0389', '0399', '0444', '0445', '0447', '0448', '0457', '0478', '0479', '0489', '0499', '0566', '0567', '0577', '0588', '0589', '0599', '0666', '0667', '0668', '0677', '0678', '0689', '0699', '0777', '0778', '0788', '0799', '0888', '1111', '1112', '1113', '1122', '1159', '1169', '1177', '1178', '1179', '1188', '1399', '1444', '1499', '1666', '1667', '1677', '1699', '1777', '2257', '3444', '3669', '3779', '3999', '4444', '4459', '4477', '4558', '4899', '4999', '5668', '5788', '5799', '5899', '6666', '6667', '6677', '6777', '6778', '6888', '6899', '6999', '7777', '7788', '7789', '7799', '7888', '7999', '8899']\n"
       ]
      }
     ],
     "prompt_number": 7
    }
   ],
   "metadata": {}
  }
 ]
}