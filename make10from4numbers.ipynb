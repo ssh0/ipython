{
 "metadata": {
  "name": "",
  "signature": "sha256:2dd726ecffb3f7782b6247694be68295796b9baf8305a6885af617ea3d117b38"
 },
 "nbformat": 3,
 "nbformat_minor": 0,
 "worksheets": [
  {
   "cells": [
    {
     "cell_type": "heading",
     "level": 1,
     "metadata": {},
     "source": [
      "4\u3064\u306e\u6570\u5b57\u3068\u56db\u5247\u6f14\u7b97\u306710\u3092\u3064\u304f\u308b"
     ]
    },
    {
     "cell_type": "markdown",
     "metadata": {},
     "source": [
      "\u3053\u3063\u3061\u304c\u6b63\u3057\u3044\u3002"
     ]
    },
    {
     "cell_type": "heading",
     "level": 2,
     "metadata": {},
     "source": [
      "\u9006\u30dd\u30fc\u30e9\u30f3\u30c9\u8a18\u6cd5\u306b\u3064\u3044\u3066"
     ]
    },
    {
     "cell_type": "markdown",
     "metadata": {},
     "source": [
      "[\u9006\u30dd\u30fc\u30e9\u30f3\u30c9\u8a18\u6cd5 - Wikipedia:](http://ja.wikipedia.org/wiki/%E9%80%86%E3%83%9D%E3%83%BC%E3%83%A9%E3%83%B3%E3%83%89%E8%A8%98%E6%B3%95)"
     ]
    },
    {
     "cell_type": "markdown",
     "metadata": {},
     "source": [
      "A,B,C,D\u3092\u6570\u3068\u3057\u3066\n",
      "\n",
      "    D C B A + + *\n",
      "\n",
      "\u306f\u3001((A+B)+C)*D\u3092\u8868\u3057\u3066\u3044\u308b\u3002\n",
      "\n"
     ]
    },
    {
     "cell_type": "markdown",
     "metadata": {},
     "source": [
      "    D C + B A + *\n",
      "    \n",
      "\u306f\u3001(A+B)*(C+D)\u3092\u8868\u3057\u3066\u3044\u308b\u3002"
     ]
    },
    {
     "cell_type": "markdown",
     "metadata": {},
     "source": [
      "\u30b9\u30bf\u30c3\u30af([]\u3067\u3042\u3089\u308f\u3059)\u3068\u3001\u30a2\u30ad\u30e5\u30e0\u30ec\u30fc\u30bf({}\u3067\u3042\u3089\u308f\u3059)\u304c\u4e00\u3064\u305a\u3064\u3042\u308c\u3070\u3001\u3053\u306e\u3068\u304d\u306e\u8a08\u7b97\u52d5\u4f5c\u3092\u518d\u73fe\u3067\u304d\u308b\u3002\n",
      "\n",
      "    1 2 + 4 5 + *\n",
      "\n",
      "1. \u300c1\u300d\u3092\u30b9\u30bf\u30c3\u30af\u306b\u7a4d\u3080: [1], {}\n",
      "2. \u300c2\u300d\u3092\u30b9\u30bf\u30c3\u30af\u306b\u7a4d\u3080: [2 1], {}\n",
      "3. \u300c+\u300d\u306b\u3088\u308b\u64cd\u4f5c\n",
      "    1. \u30b9\u30bf\u30c3\u30af\u304b\u3089\u30a2\u30ad\u30e5\u30e0\u30ec\u30fc\u30bf\u306b\u30c7\u30fc\u30bf\u3092\u79fb\u3059: [1], {2}\n",
      "    2. \u30b9\u30bf\u30c3\u30af\u304b\u3089\u30c7\u30fc\u30bf\u3092\u53d6\u308a\u51fa\u3057\u30a2\u30ad\u30e5\u30e0\u30ec\u30fc\u30bf\u3068\u6f14\u7b97: [], {3}\n",
      "    3. \u30a2\u30ad\u30e5\u30e0\u30ec\u30fc\u30bf\u306e\u30c7\u30fc\u30bf\u3092\u30b9\u30bf\u30c3\u30af\u306b\u7a4d\u3080: [3], {}\n",
      "4. \u300c4\u300d\u3092\u30b9\u30bf\u30c3\u30af\u306b\u7a4d\u3080: [4 3], {}\n",
      "5. \u300c5\u300d\u3092\u30b9\u30bf\u30c3\u30af\u306b\u7a4d\u3080: [5 4 3], {}\n",
      "6. \u300c+\u300d\u306b\u3088\u308b\u64cd\u4f5c\n",
      "    1. \u30b9\u30bf\u30c3\u30af\u304b\u3089\u30a2\u30ad\u30e5\u30e0\u30ec\u30fc\u30bf\u306b\u30c7\u30fc\u30bf\u3092\u79fb\u3059: [4 3], {5}\n",
      "    2. \u30b9\u30bf\u30c3\u30af\u304b\u3089\u30c7\u30fc\u30bf\u3092\u53d6\u308a\u51fa\u3057\u30a2\u30ad\u30e5\u30e0\u30ec\u30fc\u30bf\u3068\u6f14\u7b97: [3], {9}\n",
      "    3. \u30a2\u30ad\u30e5\u30e0\u30ec\u30fc\u30bf\u306e\u30c7\u30fc\u30bf\u3092\u30b9\u30bf\u30c3\u30af\u306b\u7a4d\u3080: [9 3], {}\n",
      "7. \u300c*\u300d\u306b\u3088\u308b\u64cd\u4f5c\n",
      "    1. \u30b9\u30bf\u30c3\u30af\u304b\u3089\u30a2\u30ad\u30e5\u30e0\u30ec\u30fc\u30bf\u306b\u30c7\u30fc\u30bf\u3092\u79fb\u3059: [9], {3}\n",
      "    2. \u30b9\u30bf\u30c3\u30af\u304b\u3089\u30c7\u30fc\u30bf\u3092\u53d6\u308a\u51fa\u3057\u30a2\u30ad\u30e5\u30e0\u30ec\u30fc\u30bf\u3068\u6f14\u7b97: [], {27}\n",
      "    3. \u30a2\u30ad\u30e5\u30e0\u30ec\u30fc\u30bf\u306e\u30c7\u30fc\u30bf\u3092\u30b9\u30bf\u30c3\u30af\u306b\u7a4d\u3080: [27], {}"
     ]
    },
    {
     "cell_type": "code",
     "collapsed": false,
     "input": [
      "from itertools import permutations, combinations, product\n",
      "from operator import add, sub, mul, div\n",
      "\n",
      "def make10(q='1337', verbose=True):\n",
      "    q = [float(i) for i in list(q)]\n",
      "\n",
      "    def rsub(a, b):\n",
      "        return sub(b, a)\n",
      "    def rdiv(a, b):\n",
      "        return div(b, a)\n",
      "    o = [add, sub, rsub, mul, div, rdiv]\n",
      "    o_k = ['+', '-', '-', '*', '/', '/']\n",
      "    O = [i for i in product(range(6), repeat=3)]\n",
      "    \n",
      "    TOL = 0.01\n",
      "    \n",
      "    res = []\n",
      "    \n",
      "    for o1, o2, o3 in O:\n",
      "        # a b o1 c o2 d o3\n",
      "        X = []\n",
      "        for a, b in combinations([0, 1, 2, 3], 2):\n",
      "            t = [0, 1, 2, 3]\n",
      "            t.remove(a)\n",
      "            t.remove(b)\n",
      "            x = (q[a], q[b], q[t[0]], q[t[1]])\n",
      "            if not x in X:\n",
      "                X.append(x)\n",
      "            x = (q[a], q[b], q[t[1]], q[t[0]])\n",
      "            if not x in X:\n",
      "                X.append(x)\n",
      "        \n",
      "        for a, b, c, d in X:\n",
      "            try:\n",
      "                result = o[o3](o[o2](o[o1](a,b),c), d)\n",
      "            except ZeroDivisionError:\n",
      "                continue\n",
      "            if abs(result - 10) < TOL:\n",
      "                if o1 == 2 or o1 == 5:\n",
      "                    a, b = b, a\n",
      "                p = \"(%d%s%d)\" % (a, o_k[o1], b)\n",
      "                if o2 == 2 or o2 == 5:\n",
      "                    p = \"%d%s\" % (c, o_k[o2]) + p\n",
      "                else:\n",
      "                    p = p + \"%s%d\" % (o_k[o2], c)\n",
      "                if o3 == 2 or o3 == 5:\n",
      "                    p = \"%d%s\" % (d, o_k[o3]) + \"(\" + p + \")\"\n",
      "                else:\n",
      "                    p = \"(\" + p + \")\" + \"%s%d\" % (o_k[o3], d)\n",
      "                res.append(p)\n",
      "        \n",
      "        # a b o1 c d o2 o3\n",
      "        X = [\n",
      "            (q[0], q[1], q[2], q[3]),\n",
      "            (q[0], q[2], q[1], q[3]),\n",
      "            (q[0], q[3], q[1], q[2]),\n",
      "            ]\n",
      "        \n",
      "        for a, b, c, d in X:\n",
      "            try:\n",
      "                result = o[o3](o[o1](a, b), o[o2](c, d))\n",
      "            except ZeroDivisionError:\n",
      "                continue\n",
      "            if abs(result - 10) < TOL:\n",
      "                if o1 == 2 or o1 == 5:\n",
      "                    a, b = b, a\n",
      "                p1 = \"(%d%s%d)\" % (a, o_k[o1], b)\n",
      "                if o2 == 2 or o2 == 5:\n",
      "                    c, d = d, c\n",
      "                p2 = \"(%d%s%d)\" % (c, o_k[o2], d)\n",
      "                if o3 == 2 or o3 == 5:\n",
      "                    p = p2 + o_k[o3] + p1\n",
      "                else:\n",
      "                    p = p1 + o_k[o3] + p2\n",
      "                res.append(p)\n",
      "        \n",
      "    if verbose:\n",
      "        for r in res:\n",
      "            print r\n",
      "        \n",
      "    if len(res) > 0:\n",
      "        return True\n",
      "    else:\n",
      "        return False"
     ],
     "language": "python",
     "metadata": {},
     "outputs": [],
     "prompt_number": 34
    },
    {
     "cell_type": "code",
     "collapsed": false,
     "input": [
      "make10('1158')"
     ],
     "language": "python",
     "metadata": {},
     "outputs": [
      {
       "output_type": "stream",
       "stream": "stdout",
       "text": [
        "8/(1-(1/5))\n"
       ]
      },
      {
       "metadata": {},
       "output_type": "pyout",
       "prompt_number": 40,
       "text": [
        "True"
       ]
      }
     ],
     "prompt_number": 40
    },
    {
     "cell_type": "code",
     "collapsed": false,
     "input": [
      "import itertools\n",
      "A = [''.join(i) for i in \n",
      "     itertools.combinations_with_replacement(\n",
      "            [str(x) for x in range(10)], 4)]\n",
      "index_A = []\n",
      "for a in A:\n",
      "    index_A.append(make10(a, verbose=False))"
     ],
     "language": "python",
     "metadata": {},
     "outputs": [],
     "prompt_number": 23
    },
    {
     "cell_type": "code",
     "collapsed": false,
     "input": [
      "false2 = []\n",
      "for i, a in enumerate(A):\n",
      "    if not index_A[i]:\n",
      "        false2.append(a)"
     ],
     "language": "python",
     "metadata": {},
     "outputs": [],
     "prompt_number": 24
    },
    {
     "cell_type": "code",
     "collapsed": false,
     "input": [
      "print len(false2), false2"
     ],
     "language": "python",
     "metadata": {},
     "outputs": [
      {
       "output_type": "stream",
       "stream": "stdout",
       "text": [
        "163 ['0000', '0001', '0002', '0003', '0004', '0005', '0006', '0007', '0008', '0009', '0011', '0012', '0013', '0014', '0015', '0016', '0017', '0018', '0022', '0023', '0024', '0026', '0027', '0029', '0033', '0034', '0035', '0036', '0038', '0039', '0044', '0045', '0047', '0048', '0049', '0056', '0057', '0058', '0059', '0066', '0067', '0068', '0069', '0077', '0078', '0079', '0088', '0089', '0099', '0111', '0112', '0113', '0114', '0116', '0117', '0122', '0123', '0134', '0144', '0148', '0157', '0158', '0166', '0167', '0168', '0177', '0178', '0188', '0222', '0233', '0236', '0269', '0277', '0279', '0299', '0333', '0335', '0336', '0338', '0344', '0345', '0348', '0359', '0366', '0369', '0388', '0389', '0399', '0444', '0445', '0447', '0448', '0457', '0478', '0479', '0489', '0499', '0566', '0567', '0577', '0588', '0589', '0599', '0666', '0667', '0668', '0677', '0678', '0689', '0699', '0777', '0778', '0788', '0799', '0888', '1111', '1112', '1113', '1122', '1159', '1169', '1177', '1178', '1179', '1188', '1399', '1444', '1499', '1666', '1667', '1677', '1699', '1777', '2257', '3444', '3669', '3779', '3999', '4444', '4459', '4477', '4558', '4899', '4999', '5668', '5788', '5799', '5899', '6666', '6667', '6677', '6777', '6778', '6888', '6899', '6999', '7777', '7788', '7789', '7799', '7888', '7999', '8899']\n"
       ]
      }
     ],
     "prompt_number": 25
    }
   ],
   "metadata": {}
  }
 ]
}