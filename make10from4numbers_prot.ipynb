{
 "metadata": {
  "name": "",
  "signature": "sha256:535788b8ea41a47da2ae8ff3b6edbea02d7ecdfc41a360a17852f422a14c27db"
 },
 "nbformat": 3,
 "nbformat_minor": 0,
 "worksheets": [
  {
   "cells": [
    {
     "cell_type": "heading",
     "level": 1,
     "metadata": {},
     "source": [
      "4\u6841\u306e\u6570\u5b57\u304b\u3089\u56db\u5247\u6f14\u7b97\u306e\u307f\u3092\u7528\u3044\u306610\u3092\u3064\u304f\u308b"
     ]
    },
    {
     "cell_type": "markdown",
     "metadata": {},
     "source": [
      "\u5f8c\u534a\u306b\u66ab\u5b9a\u6a21\u7bc4\u89e3\u7b54"
     ]
    },
    {
     "cell_type": "code",
     "collapsed": false,
     "input": [
      "import itertools\n",
      "import operator"
     ],
     "language": "python",
     "metadata": {},
     "outputs": [],
     "prompt_number": 1
    },
    {
     "cell_type": "markdown",
     "metadata": {},
     "source": [
      "\u6570\u306e\u4e26\u3079\u66ff\u3048"
     ]
    },
    {
     "cell_type": "code",
     "collapsed": false,
     "input": [
      "a = [1., 3., 7., 3.]\n",
      "X = []\n",
      "for _x in itertools.permutations(a, 4):\n",
      "    if not _x in X:\n",
      "        X.append(_x)\n",
      "X"
     ],
     "language": "python",
     "metadata": {},
     "outputs": [
      {
       "metadata": {},
       "output_type": "pyout",
       "prompt_number": 2,
       "text": [
        "[(1.0, 3.0, 7.0, 3.0),\n",
        " (1.0, 3.0, 3.0, 7.0),\n",
        " (1.0, 7.0, 3.0, 3.0),\n",
        " (3.0, 1.0, 7.0, 3.0),\n",
        " (3.0, 1.0, 3.0, 7.0),\n",
        " (3.0, 7.0, 1.0, 3.0),\n",
        " (3.0, 7.0, 3.0, 1.0),\n",
        " (3.0, 3.0, 1.0, 7.0),\n",
        " (3.0, 3.0, 7.0, 1.0),\n",
        " (7.0, 1.0, 3.0, 3.0),\n",
        " (7.0, 3.0, 1.0, 3.0),\n",
        " (7.0, 3.0, 3.0, 1.0)]"
       ]
      }
     ],
     "prompt_number": 2
    },
    {
     "cell_type": "markdown",
     "metadata": {},
     "source": [
      "\u6f14\u7b97\u5b50\u306e\u7d44\u307f\u5408\u308f\u305b"
     ]
    },
    {
     "cell_type": "code",
     "collapsed": false,
     "input": [
      "_o = [('+', operator.add), ('-', operator.sub), ('*', operator.mul), ('/', operator.div)]\n",
      "O = [i for i in itertools.product(range(4), repeat=3)]\n",
      "O"
     ],
     "language": "python",
     "metadata": {},
     "outputs": [
      {
       "metadata": {},
       "output_type": "pyout",
       "prompt_number": 3,
       "text": [
        "[(0, 0, 0),\n",
        " (0, 0, 1),\n",
        " (0, 0, 2),\n",
        " (0, 0, 3),\n",
        " (0, 1, 0),\n",
        " (0, 1, 1),\n",
        " (0, 1, 2),\n",
        " (0, 1, 3),\n",
        " (0, 2, 0),\n",
        " (0, 2, 1),\n",
        " (0, 2, 2),\n",
        " (0, 2, 3),\n",
        " (0, 3, 0),\n",
        " (0, 3, 1),\n",
        " (0, 3, 2),\n",
        " (0, 3, 3),\n",
        " (1, 0, 0),\n",
        " (1, 0, 1),\n",
        " (1, 0, 2),\n",
        " (1, 0, 3),\n",
        " (1, 1, 0),\n",
        " (1, 1, 1),\n",
        " (1, 1, 2),\n",
        " (1, 1, 3),\n",
        " (1, 2, 0),\n",
        " (1, 2, 1),\n",
        " (1, 2, 2),\n",
        " (1, 2, 3),\n",
        " (1, 3, 0),\n",
        " (1, 3, 1),\n",
        " (1, 3, 2),\n",
        " (1, 3, 3),\n",
        " (2, 0, 0),\n",
        " (2, 0, 1),\n",
        " (2, 0, 2),\n",
        " (2, 0, 3),\n",
        " (2, 1, 0),\n",
        " (2, 1, 1),\n",
        " (2, 1, 2),\n",
        " (2, 1, 3),\n",
        " (2, 2, 0),\n",
        " (2, 2, 1),\n",
        " (2, 2, 2),\n",
        " (2, 2, 3),\n",
        " (2, 3, 0),\n",
        " (2, 3, 1),\n",
        " (2, 3, 2),\n",
        " (2, 3, 3),\n",
        " (3, 0, 0),\n",
        " (3, 0, 1),\n",
        " (3, 0, 2),\n",
        " (3, 0, 3),\n",
        " (3, 1, 0),\n",
        " (3, 1, 1),\n",
        " (3, 1, 2),\n",
        " (3, 1, 3),\n",
        " (3, 2, 0),\n",
        " (3, 2, 1),\n",
        " (3, 2, 2),\n",
        " (3, 2, 3),\n",
        " (3, 3, 0),\n",
        " (3, 3, 1),\n",
        " (3, 3, 2),\n",
        " (3, 3, 3)]"
       ]
      }
     ],
     "prompt_number": 3
    },
    {
     "cell_type": "markdown",
     "metadata": {},
     "source": [
      "\u9045\u3044\u30d0\u30fc\u30b8\u30e7\u30f3"
     ]
    },
    {
     "cell_type": "code",
     "collapsed": false,
     "input": [
      "from itertools import permutations\n",
      "\n",
      "\n",
      "def make10from4numbers(q, verbose=True):\n",
      "    \"\"\"Make combinations that make number 10 from 4 numbers\n",
      "    \n",
      "    KeywordArg:\n",
      "    \n",
      "    q: type:str, 4 int numbers\n",
      "    \"\"\"\n",
      "    PATTERNS = [\n",
      "    '%s%s%s%s%s%s%s',\n",
      "    '(%s%s%s)%s%s%s%s',\n",
      "    '(%s%s%s%s%s)%s%s',\n",
      "    '%s%s(%s%s%s)%s%s',\n",
      "    '%s%s(%s%s%s%s%s)',\n",
      "    '%s%s%s%s(%s%s%s)',\n",
      "    '(%s%s%s)%s(%s%s%s)'\n",
      "    ]\n",
      "    \n",
      "    TOL = 0.001\n",
      "    \n",
      "    res = []\n",
      "    \n",
      "    for x, y, z in permutations('+-*/', 3):\n",
      "        for a, b, c, d in permutations(q):\n",
      "            a, b, c, d = ['%s.0' % n for n in [a, b, c, d]]\n",
      "            for pattern in PATTERNS:\n",
      "                f = pattern % (a, x, b, y, c, z, d)\n",
      "                try:\n",
      "                    result = eval(f)\n",
      "                except ZeroDivisionError:\n",
      "                    continue\n",
      "                if abs(result - 10) < TOL:\n",
      "                    res.append(f)\n",
      "\n",
      "    if verbose:\n",
      "        for r in res:\n",
      "            print r\n",
      "        \n",
      "    if len(res) > 0:\n",
      "        return True\n",
      "    else:\n",
      "        return False"
     ],
     "language": "python",
     "metadata": {},
     "outputs": [],
     "prompt_number": 4
    },
    {
     "cell_type": "code",
     "collapsed": false,
     "input": [
      "make10from4numbers('1373')"
     ],
     "language": "python",
     "metadata": {},
     "outputs": [
      {
       "output_type": "stream",
       "stream": "stdout",
       "text": [
        "(1.0+7.0/3.0)*3.0\n",
        "(1.0+7.0/3.0)*3.0\n",
        "3.0*(1.0+7.0/3.0)\n",
        "3.0*(1.0+7.0/3.0)\n",
        "3.0*(7.0/3.0+1.0)\n",
        "3.0*(7.0/3.0+1.0)\n",
        "(7.0/3.0+1.0)*3.0\n",
        "(7.0/3.0+1.0)*3.0\n"
       ]
      },
      {
       "metadata": {},
       "output_type": "pyout",
       "prompt_number": 5,
       "text": [
        "True"
       ]
      }
     ],
     "prompt_number": 5
    },
    {
     "cell_type": "code",
     "collapsed": false,
     "input": [
      "import itertools\n",
      "A = [''.join(i) for i in \n",
      "     itertools.combinations_with_replacement(\n",
      "            [str(x) for x in range(10)], 4)]\n",
      "index_A = []\n",
      "for a in A:\n",
      "    index_A.append(make10from4numbers(a, verbose=False))"
     ],
     "language": "python",
     "metadata": {},
     "outputs": [],
     "prompt_number": 6
    },
    {
     "cell_type": "code",
     "collapsed": false,
     "input": [
      "false1 = []\n",
      "for i, a in enumerate(A):\n",
      "    if not index_A[i]:\n",
      "        false1.append(a)"
     ],
     "language": "python",
     "metadata": {},
     "outputs": [],
     "prompt_number": 7
    },
    {
     "cell_type": "code",
     "collapsed": false,
     "input": [
      "print len(false1), false1"
     ],
     "language": "python",
     "metadata": {},
     "outputs": [
      {
       "output_type": "stream",
       "stream": "stdout",
       "text": [
        "246 ['0000', '0001', '0002', '0003', '0004', '0005', '0006', '0007', '0008', '0009', '0011', '0012', '0013', '0014', '0015', '0016', '0017', '0018', '0022', '0023', '0024', '0026', '0027', '0029', '0033', '0034', '0035', '0036', '0038', '0039', '0044', '0045', '0047', '0048', '0049', '0056', '0057', '0058', '0059', '0066', '0067', '0068', '0069', '0077', '0078', '0079', '0088', '0089', '0099', '0111', '0112', '0113', '0114', '0116', '0117', '0118', '0122', '0123', '0127', '0134', '0136', '0138', '0144', '0145', '0147', '0148', '0156', '0157', '0158', '0166', '0167', '0168', '0177', '0178', '0188', '0222', '0233', '0236', '0239', '0244', '0266', '0269', '0277', '0279', '0299', '0333', '0334', '0335', '0336', '0338', '0344', '0345', '0348', '0349', '0358', '0359', '0366', '0369', '0388', '0389', '0399', '0444', '0445', '0447', '0448', '0457', '0459', '0477', '0478', '0479', '0489', '0499', '0566', '0567', '0569', '0577', '0578', '0588', '0589', '0599', '0666', '0667', '0668', '0677', '0678', '0679', '0688', '0689', '0699', '0777', '0778', '0788', '0789', '0799', '0888', '0899', '1111', '1112', '1113', '1114', '1117', '1118', '1122', '1123', '1136', '1139', '1144', '1157', '1158', '1159', '1166', '1167', '1169', '1177', '1178', '1179', '1188', '1222', '1338', '1344', '1388', '1399', '1444', '1458', '1467', '1478', '1499', '1666', '1667', '1668', '1677', '1678', '1689', '1699', '1777', '1778', '1788', '1799', '1888', '2222', '2257', '2279', '2299', '2459', '2557', '2569', '2777', '3336', '3348', '3349', '3357', '3444', '3579', '3669', '3678', '3779', '3889', '3999', '4444', '4448', '4457', '4459', '4467', '4477', '4479', '4499', '4558', '4577', '4589', '4679', '4778', '4899', '4999', '5557', '5667', '5668', '5679', '5689', '5778', '5779', '5788', '5799', '5899', '6666', '6667', '6668', '6677', '6679', '6777', '6778', '6888', '6889', '6899', '6999', '7777', '7778', '7788', '7789', '7799', '7888', '7889', '7899', '7999', '8888', '8899', '8999']\n"
       ]
      }
     ],
     "prompt_number": 8
    },
    {
     "cell_type": "markdown",
     "metadata": {},
     "source": [
      "\u9045\u3044\uff0e\uff0e\uff0e\n",
      "\n",
      "\u3057\u3001\u9593\u9055\u3063\u3066\u3044\u308b\u3002(1167\u4ed6\u591a\u6570)"
     ]
    },
    {
     "cell_type": "markdown",
     "metadata": {},
     "source": [
      "\u66ab\u5b9a\u30d0\u30fc\u30b8\u30e7\u30f3"
     ]
    },
    {
     "cell_type": "code",
     "collapsed": false,
     "input": [
      "from itertools import permutations, product\n",
      "from operator import add, sub, mul, div\n",
      "\n",
      "\n",
      "def make10from4numbers1(q, verbose=True):\n",
      "    \"\"\"Make combinations that make number 10 from 4 numbers\n",
      "    \n",
      "    KeywordArg:\n",
      "    \n",
      "    q: type:str, 4 int numbers\n",
      "    \"\"\"\n",
      "    \n",
      "    q = [float(i) for i in list(q)]\n",
      "    \n",
      "    TOL = 0.001\n",
      "    \n",
      "    o = [add, sub, mul, div]\n",
      "    o_k = ['+', '-', '*', '/']\n",
      "    res = []\n",
      "    \n",
      "    PATTERNS = {\n",
      "    1: lambda a,b,c,d,o1,o2,o3: o[o3]((o[o2](o[o1](a, b), c)), d),\n",
      "    2: lambda a,b,c,d,o1,o2,o3: o[o3]((o[o2](c, o[o1](a, b))), d),\n",
      "    3: lambda a,b,c,d,o1,o2,o3: o[o3](d, (o[o2](o[o1](a, b), c))),\n",
      "    4: lambda a,b,c,d,o1,o2,o3: o[o3](d, (o[o2](c, o[o1](a, b)))),\n",
      "    5: lambda a,b,c,d,o1,o2,o3: o[o3]((o[o2](o[o1](b, a), c)), d),\n",
      "    6: lambda a,b,c,d,o1,o2,o3: o[o3]((o[o2](c, o[o1](b, a))), d),\n",
      "    7: lambda a,b,c,d,o1,o2,o3: o[o3](d, (o[o2](o[o1](b, a), c))),\n",
      "    8: lambda a,b,c,d,o1,o2,o3: o[o3](d, (o[o2](c, o[o1](b, a)))),\n",
      "    }\n",
      "    \n",
      "    X = []\n",
      "    for x in permutations(q, 4):\n",
      "        if not x in X:\n",
      "            X.append(x)\n",
      "    \n",
      "    for a, b, c, d in X:\n",
      "        for o1, o2, o3 in product(range(4), repeat=3):\n",
      "            ignore = []\n",
      "            strPATTERNS = {\n",
      "            1: '((%d%s%d)%s%d)%s%d' % (a,o_k[o1],b,o_k[o2],c,o_k[o3],d),\n",
      "            2: '(%d%s(%d%s%d))%s%d' % (c,o_k[o2],a,o_k[o1],b,o_k[o3],d),\n",
      "            3: '%d%s((%d%s%d)%s%d)' % (d,o_k[o3],a,o_k[o1],b,o_k[o2],c),\n",
      "            4: '%d%s(%d%s(%d%s%d))' % (d,o_k[o3],c,o_k[o2],a,o_k[o1],b),\n",
      "            5: '((%d%s%d)%s%d)%s%d' % (b,o_k[o1],a,o_k[o2],c,o_k[o3],d),\n",
      "            6: '(%d%s(%d%s%d))%s%d' % (c,o_k[o2],b,o_k[o1],a,o_k[o3],d),\n",
      "            7: '%d%s((%d%s%d)%s%d)' % (d,o_k[o3],b,o_k[o1],a,o_k[o2],c),\n",
      "            8: '%d%s(%d%s(%d%s%d))' % (d,o_k[o3],c,o_k[o2],b,o_k[o1],a)\n",
      "            }\n",
      "            if o1 == 0 or o1 == 2:\n",
      "                ignore += [5, 6, 7, 8]\n",
      "            if o2 == 0 or o2 == 2:\n",
      "                ignore += [2, 4, 6, 8]\n",
      "            if o3 == 0 or o3 == 2:\n",
      "                ignore += [3, 4, 7, 8]\n",
      "            for i, f in PATTERNS.items():\n",
      "                if i in ignore:\n",
      "                    continue\n",
      "                try:\n",
      "                    result = f(a, b, c, d, o1, o2, o3)\n",
      "                except ZeroDivisionError:\n",
      "                    result = 1\n",
      "                if abs(result - 10) < TOL:\n",
      "                    strpattern = strPATTERNS[i]\n",
      "                    if not strpattern in res:\n",
      "                        res.append(strpattern)\n",
      "            \n",
      "    if verbose:\n",
      "        for r in res:\n",
      "            print r\n",
      "        \n",
      "    if len(res) > 0:\n",
      "        return True\n",
      "    else:\n",
      "        return False"
     ],
     "language": "python",
     "metadata": {},
     "outputs": [],
     "prompt_number": 1
    },
    {
     "cell_type": "code",
     "collapsed": false,
     "input": [
      "make10from4numbers1('1158')"
     ],
     "language": "python",
     "metadata": {},
     "outputs": [
      {
       "output_type": "stream",
       "stream": "stdout",
       "text": [
        "8/(1-(1/5))\n"
       ]
      },
      {
       "metadata": {},
       "output_type": "pyout",
       "prompt_number": 2,
       "text": [
        "True"
       ]
      }
     ],
     "prompt_number": 2
    },
    {
     "cell_type": "markdown",
     "metadata": {},
     "source": [
      "0000\u301c9999\u306e\u9593\u306710\u306b\u51fa\u6765\u306a\u3044\u3082\u306e\u3092\u8868\u793a"
     ]
    },
    {
     "cell_type": "code",
     "collapsed": false,
     "input": [
      "import itertools\n",
      "A = [''.join(i) for i in \n",
      "     itertools.combinations_with_replacement(\n",
      "            [str(x) for x in range(10)], 4)]\n",
      "index_A = []\n",
      "for a in A:\n",
      "    index_A.append(make10from4numbers1(a, verbose=False))"
     ],
     "language": "python",
     "metadata": {},
     "outputs": [],
     "prompt_number": 13
    },
    {
     "cell_type": "code",
     "collapsed": false,
     "input": [
      "false2 = []\n",
      "for i, a in enumerate(A):\n",
      "    if not index_A[i]:\n",
      "        false2.append(a)"
     ],
     "language": "python",
     "metadata": {},
     "outputs": [],
     "prompt_number": 14
    },
    {
     "cell_type": "code",
     "collapsed": false,
     "input": [
      "print len(false2), false2"
     ],
     "language": "python",
     "metadata": {},
     "outputs": [
      {
       "output_type": "stream",
       "stream": "stdout",
       "text": [
        "170 ['0000', '0001', '0002', '0003', '0004', '0005', '0006', '0007', '0008', '0009', '0011', '0012', '0013', '0014', '0015', '0016', '0017', '0018', '0022', '0023', '0024', '0026', '0027', '0029', '0033', '0034', '0035', '0036', '0038', '0039', '0044', '0045', '0047', '0048', '0049', '0056', '0057', '0058', '0059', '0066', '0067', '0068', '0069', '0077', '0078', '0079', '0088', '0089', '0099', '0111', '0112', '0113', '0114', '0116', '0117', '0122', '0123', '0134', '0144', '0148', '0157', '0158', '0166', '0167', '0168', '0177', '0178', '0188', '0222', '0233', '0236', '0269', '0277', '0279', '0299', '0333', '0335', '0336', '0338', '0344', '0345', '0348', '0359', '0366', '0369', '0388', '0389', '0399', '0444', '0445', '0447', '0448', '0457', '0478', '0479', '0489', '0499', '0566', '0567', '0577', '0588', '0589', '0599', '0666', '0667', '0668', '0677', '0678', '0689', '0699', '0777', '0778', '0788', '0799', '0888', '1111', '1112', '1113', '1114', '1116', '1122', '1149', '1159', '1169', '1177', '1178', '1179', '1188', '1399', '1444', '1499', '1666', '1667', '1677', '1699', '1777', '2257', '3333', '3366', '3377', '3444', '3669', '3779', '3999', '4444', '4459', '4477', '4558', '4899', '4999', '5557', '5668', '5788', '5799', '5899', '6666', '6667', '6677', '6777', '6778', '6888', '6899', '6999', '7777', '7788', '7789', '7799', '7888', '7999', '8899']\n"
       ]
      }
     ],
     "prompt_number": 15
    },
    {
     "cell_type": "markdown",
     "metadata": {},
     "source": [
      "\u591a\u5206\u3042\u3063\u3066\u308b\u3002\n",
      "\u9593\u9055\u3044\u304c\u3042\u3063\u305f\u3089\u6307\u6458\u304a\u9858\u3044\u3057\u307e\u3059\u3002"
     ]
    },
    {
     "cell_type": "code",
     "collapsed": false,
     "input": [
      "1. / (9.**3)"
     ],
     "language": "python",
     "metadata": {},
     "outputs": [
      {
       "metadata": {},
       "output_type": "pyout",
       "prompt_number": 1,
       "text": [
        "0.0013717421124828531"
       ]
      }
     ],
     "prompt_number": 1
    }
   ],
   "metadata": {}
  }
 ]
}