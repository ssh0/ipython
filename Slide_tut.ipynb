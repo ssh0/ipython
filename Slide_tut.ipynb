{
 "metadata": {
  "kernelspec": {
   "codemirror_mode": {
    "name": "ipython",
    "version": 2
   },
   "display_name": "IPython (Python 2)",
   "language": "python",
   "name": "python2"
  },
  "name": "",
  "signature": "sha256:e99f3ac0d57a2a2ca4160cdaebaaae12d307f8eecfa9e1c30bee2fb509873460"
 },
 "nbformat": 3,
 "nbformat_minor": 0,
 "worksheets": [
  {
   "cells": [
    {
     "cell_type": "heading",
     "level": 1,
     "metadata": {
      "internals": {
       "slide_helper": "subslide_end",
       "slide_type": "subslide"
      },
      "slide_helper": "slide_end",
      "slideshow": {
       "slide_type": "slide"
      }
     },
     "source": [
      "IPython\u3092\u4f7f\u3063\u3066\u3001HTML\u30d9\u30fc\u30b9\u306e\u30b9\u30e9\u30a4\u30c9\u3092\u4f5c\u3063\u3066\u307f\u308b"
     ]
    },
    {
     "cell_type": "heading",
     "level": 3,
     "metadata": {
      "internals": {
       "slide_type": "subslide"
      },
      "slideshow": {
       "slide_type": "slide"
      }
     },
     "source": [
      "\u76ee\u7684"
     ]
    },
    {
     "cell_type": "markdown",
     "metadata": {
      "internals": {
       "frag_number": 2
      },
      "slideshow": {
       "slide_type": "fragment"
      }
     },
     "source": [
      "\u7c21\u5358\u306b\u30b9\u30e9\u30a4\u30c9\u304c\u4f5c\u308a\u305f\u3044\uff01\u305d\u3057\u3066\u3067\u304d\u308b\u306a\u3089\u6570\u5f0f\u3082\u30cd\u30a4\u30c6\u30a3\u30d6\u3067\u4f7f\u3048\u308b\u3088\u3046\u306a\u3001\u305d\u3093\u306a\u30b9\u30e9\u30a4\u30c9\u304c\u3044\u3044\uff01"
     ]
    },
    {
     "cell_type": "markdown",
     "metadata": {
      "internals": {
       "frag_helper": "fragment_end",
       "frag_number": 3
      },
      "slideshow": {
       "slide_type": "fragment"
      }
     },
     "source": [
      "IPython\u4f7f\u3044\u3084\u3059\u305d\u3046\u3060\u3057\u3001\u3053\u308c\u30e1\u30a4\u30f3\u306b\u3057\u3066\u3082\u3044\u3044\u3093\u3058\u3083\u30fb\u30fb\u30fb\uff1f"
     ]
    },
    {
     "cell_type": "markdown",
     "metadata": {
      "internals": {
       "frag_helper": "fragment_end",
       "frag_number": 4,
       "slide_helper": "subslide_end"
      },
      "slide_helper": "slide_end",
      "slideshow": {
       "slide_type": "fragment"
      }
     },
     "source": [
      "PyConJP2014\u3067\u4f7f\u3063\u3066\u308b\u4eba\u591a\u304f\u3066\u3001\u3057\u304b\u3082\u304b\u3063\u3053\u826f\u304f\u3066\u60da\u308c\u305f"
     ]
    },
    {
     "cell_type": "heading",
     "level": 3,
     "metadata": {
      "internals": {
       "frag_helper": "fragment_end",
       "frag_number": 4,
       "slide_helper": "subslide_end",
       "slide_type": "subslide"
      },
      "slide_helper": "subslide_end",
      "slideshow": {
       "slide_type": "slide"
      }
     },
     "source": [
      "\u3084\u308a\u65b9"
     ]
    },
    {
     "cell_type": "markdown",
     "metadata": {
      "internals": {
       "frag_helper": "fragment_end",
       "frag_number": 4,
       "slide_type": "subslide"
      },
      "slideshow": {
       "slide_type": "subslide"
      }
     },
     "source": [
      "- Slide\u3068Sub-Slide\u3092\u7d44\u307f\u5408\u308f\u305b\u3066\u4f5c\u308b\u3002Slide\u306f\u6a2a\u65b9\u5411\u306b\u5c55\u958b\u3057\u3001Sub-Slide\u306f\u7e26\u65b9\u5411\u306b\u5c55\u958b\u3059\u308b\u3088\u3046\u3060\u3002"
     ]
    },
    {
     "cell_type": "markdown",
     "metadata": {
      "internals": {
       "frag_helper": "fragment_end",
       "frag_number": 7,
       "slide_helper": "subslide_end"
      },
      "slide_helper": "slide_end",
      "slideshow": {
       "slide_type": "fragment"
      }
     },
     "source": [
      "- Flagment\u3067\u3001\u3053\u306e\u3088\u3046\u306bLatex\uff0bBeamer\u3067\u3044\u3046\u3068\u3053\u308d\u306epause\u304c\u5b9f\u73fe\u3067\u304d\u308b\u3002"
     ]
    },
    {
     "cell_type": "markdown",
     "metadata": {
      "internals": {
       "frag_helper": "fragment_end",
       "frag_number": 7,
       "slide_helper": "subslide_end",
       "slide_type": "subslide"
      },
      "slide_helper": "slide_end",
      "slideshow": {
       "slide_type": "slide"
      }
     },
     "source": [
      "\u8d85\u697d\u3057\u3044\uff01\uff01(\u261d \u25e0\u203f\u25e0 )\u261d"
     ]
    },
    {
     "cell_type": "heading",
     "level": 3,
     "metadata": {
      "internals": {
       "frag_helper": "fragment_end",
       "frag_number": 7,
       "slide_helper": "subslide_end",
       "slide_type": "subslide"
      },
      "slide_helper": "subslide_end",
      "slideshow": {
       "slide_type": "slide"
      }
     },
     "source": [
      "IPython3.0.0-dev\u3092\u4f7f\u3063\u3066\u307f\u308b"
     ]
    },
    {
     "cell_type": "heading",
     "level": 4,
     "metadata": {
      "internals": {
       "frag_helper": "fragment_end",
       "frag_number": 7,
       "slide_type": "subslide"
      },
      "slideshow": {
       "slide_type": "subslide"
      }
     },
     "source": [
      "numpy\u3092\u4f7f\u3063\u3066\u307f\u3088\u3046\u3002"
     ]
    },
    {
     "cell_type": "code",
     "collapsed": false,
     "input": [
      "%pylab inline\n",
      "import numpy as np\n",
      "import matplotlib.pyplot as plt\n",
      "\n",
      "x = np.linspace(0, 2*np.pi)\n",
      "plt.plot(x, np.cos(x))"
     ],
     "language": "python",
     "metadata": {
      "internals": {
       "frag_helper": "fragment_end",
       "frag_number": 11,
       "slide_helper": "subslide_end"
      },
      "slide_helper": "subslide_end",
      "slideshow": {
       "slide_type": "fragment"
      }
     },
     "outputs": [
      {
       "output_type": "stream",
       "stream": "stdout",
       "text": [
        "Populating the interactive namespace from numpy and matplotlib\n"
       ]
      },
      {
       "metadata": {},
       "output_type": "pyout",
       "prompt_number": 2,
       "text": [
        "[<matplotlib.lines.Line2D at 0x7f4474642250>]"
       ]
      },
      {
       "metadata": {},
       "output_type": "display_data",
       "png": "[encoded data removed]",
       "text": [
        "<matplotlib.figure.Figure at 0x7f44777755d0>"
       ]
      }
     ],
     "prompt_number": 2
    },
    {
     "cell_type": "heading",
     "level": 4,
     "metadata": {
      "internals": {
       "frag_helper": "fragment_end",
       "frag_number": 11,
       "slide_type": "subslide"
      },
      "slideshow": {
       "slide_type": "subslide"
      }
     },
     "source": [
      "Requests\u3092\u4f7f\u3063\u3066\u307f\u3088\u3046\u3002"
     ]
    },
    {
     "cell_type": "code",
     "collapsed": false,
     "input": [
      "import requests\n",
      "\n",
      "payload = {'zipcode': 1690051}\n",
      "r = requests.get('http://zipcloud.ibsnet.co.jp/api/search', params=payload)"
     ],
     "language": "python",
     "metadata": {
      "internals": {
       "frag_helper": "fragment_end",
       "frag_number": 13
      },
      "slideshow": {
       "slide_type": "fragment"
      }
     },
     "outputs": [],
     "prompt_number": 5
    },
    {
     "cell_type": "code",
     "collapsed": false,
     "input": [
      "print r.text"
     ],
     "language": "python",
     "metadata": {
      "internals": {
       "frag_helper": "fragment_end",
       "frag_number": 14,
       "slide_helper": "subslide_end"
      },
      "slide_helper": "subslide_end",
      "slideshow": {
       "slide_type": "fragment"
      }
     },
     "outputs": [
      {
       "output_type": "stream",
       "stream": "stdout",
       "text": [
        "{\n",
        "\t\"message\": null,\n",
        "\t\"results\": [\n",
        "\t\t{\n",
        "\t\t\t\"address1\": \"\u6771\u4eac\u90fd\",\n",
        "\t\t\t\"address2\": \"\u65b0\u5bbf\u533a\",\n",
        "\t\t\t\"address3\": \"\u897f\u65e9\u7a32\u7530\",\n",
        "\t\t\t\"kana1\": \"\uff84\uff73\uff77\uff6e\uff73\uff84\",\n",
        "\t\t\t\"kana2\": \"\uff7c\uff9d\uff7c\uff9e\uff6d\uff78\uff78\",\n",
        "\t\t\t\"kana3\": \"\uff86\uff7c\uff9c\uff7e\uff80\uff9e\",\n",
        "\t\t\t\"prefcode\": \"13\",\n",
        "\t\t\t\"zipcode\": \"1690051\"\n",
        "\t\t}\n",
        "\t],\n",
        "\t\"status\": 200\n",
        "}\n"
       ]
      }
     ],
     "prompt_number": 6
    },
    {
     "cell_type": "code",
     "collapsed": false,
     "input": [
      "import json\n",
      "issue = json.loads(r.text)\n",
      "print issue['results'][0]['address1'], \\\n",
      "      issue['results'][0]['address2'], \\\n",
      "      issue['results'][0]['address3']"
     ],
     "language": "python",
     "metadata": {
      "internals": {
       "frag_helper": "fragment_end",
       "frag_number": 14,
       "slide_helper": "subslide_end",
       "slide_type": "subslide"
      },
      "slide_helper": "slide_end",
      "slideshow": {
       "slide_type": "subslide"
      }
     },
     "outputs": [
      {
       "output_type": "stream",
       "stream": "stdout",
       "text": [
        "\u6771\u4eac\u90fd \u65b0\u5bbf\u533a \u897f\u65e9\u7a32\u7530\n"
       ]
      }
     ],
     "prompt_number": 7
    },
    {
     "cell_type": "heading",
     "level": 3,
     "metadata": {
      "internals": {
       "frag_helper": "fragment_end",
       "frag_number": 14,
       "slide_helper": "subslide_end",
       "slide_type": "subslide"
      },
      "slide_helper": "slide_end",
      "slideshow": {
       "slide_type": "slide"
      }
     },
     "source": [
      "\u304a\u3057\u307e\u3044"
     ]
    }
   ],
   "metadata": {}
  }
 ]
}