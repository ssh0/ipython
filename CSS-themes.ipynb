{
 "metadata": {
  "name": "",
  "signature": "sha256:7e6cecbd697f3e620511eafd424e2b7ba63061e56d3f43802cfb156476190cfa"
 },
 "nbformat": 3,
 "nbformat_minor": 0,
 "worksheets": [
  {
   "cells": [
    {
     "cell_type": "heading",
     "level": 1,
     "metadata": {},
     "source": [
      "Load 48 themes for my IPython Notebook"
     ]
    },
    {
     "cell_type": "markdown",
     "metadata": {},
     "source": [
      "jfiajirgi\n",
      "\n",
      "fjaigj\n",
      "\n",
      "garjapopjaojba\n",
      "\n",
      "afgiaern"
     ]
    },
    {
     "cell_type": "code",
     "collapsed": false,
     "input": [
      "import os\n",
      "import subprocess\n",
      "import urllib"
     ],
     "language": "python",
     "metadata": {},
     "outputs": [],
     "prompt_number": 1
    },
    {
     "cell_type": "code",
     "collapsed": false,
     "input": [
      "theme_names = ['3024-dark',\n",
      "               '3024-light',\n",
      "               'atelierdune-dark',\n",
      "               'atelierdune-light',\n",
      "               'atelierforest-dark',\n",
      "               'atelierforest-light',\n",
      "               'atelierheath-dark',\n",
      "               'atelierheath-light',\n",
      "               'atelierlakeside-dark',\n",
      "               'atelierlakeside-light',\n",
      "               'atelierseaside-dark',\n",
      "               'atelierseaside-light',\n",
      "               'bespin-dark',\n",
      "               'bespin-light',\n",
      "               'chalk-dark',\n",
      "               'chalk-light',\n",
      "               'default-dark',\n",
      "               'default-light',\n",
      "               'eighties-dark',\n",
      "               'eighties-light',\n",
      "               'grayscale-dark',\n",
      "               'grayscale-light',\n",
      "               'greenscreen-dark',\n",
      "               'greenscreen-light',\n",
      "               'isotope-dark',\n",
      "               'isotope-light',\n",
      "               'londontube-dark',\n",
      "               'londontube-light',\n",
      "               'marrakesh-dark',\n",
      "               'marrakesh-light',\n",
      "               'mocha-dark',\n",
      "               'mocha-light',\n",
      "               'monokai-dark',\n",
      "               'monokai-light',\n",
      "               'ocean-dark',\n",
      "               'ocean-light',\n",
      "               'paraiso-dark',\n",
      "               'paraiso-light',\n",
      "               'railscasts-dark',\n",
      "               'railscasts-light',\n",
      "               'shapeshifter-dark',\n",
      "               'shapeshifter-light',\n",
      "               'solarized-dark',\n",
      "               'solarized-light',\n",
      "               'tomorrow-dark',\n",
      "               'tomorrow-light',\n",
      "               'twilight-dark',\n",
      "               'twilight-light']"
     ],
     "language": "python",
     "metadata": {},
     "outputs": [],
     "prompt_number": 2
    },
    {
     "cell_type": "code",
     "collapsed": false,
     "input": [
      "for i in theme_names:\n",
      "    #!ipython profile create $i\n",
      "    profile_dir = !ipython locate profile $i\n",
      "    url = \"https://raw.githubusercontent.com/nsonnad/base16-ipython-notebook/master/base16-\" + i + \".css\"\n",
      "    tgt = os.path.join(profile_dir[0], 'static', 'custom', \"custom.css\")\n",
      "    urllib.urlretrieve(url, tgt)"
     ],
     "language": "python",
     "metadata": {},
     "outputs": [],
     "prompt_number": 3
    },
    {
     "cell_type": "code",
     "collapsed": false,
     "input": [
      "for i, name in enumerate(theme_names):\n",
      "    port = str(9000 + i) \n",
      "    subprocess.Popen([\"ipython\", \"notebook\", \"--profile=\" + name, \"--port=\" + port, \"--no-browser\"])"
     ],
     "language": "python",
     "metadata": {},
     "outputs": [],
     "prompt_number": 5
    },
    {
     "cell_type": "code",
     "collapsed": false,
     "input": [
      "base_url = \"http://127.0.0.1:\"\n",
      "notebook = \"/notebooks/ranking.ipynb\"\n",
      "\n",
      "for i, name in enumerate(theme_names):\n",
      "    port = str(9000 + i) \n",
      "    url = base_url + port + notebook\n",
      "    print url, name\n"
     ],
     "language": "python",
     "metadata": {},
     "outputs": [
      {
       "output_type": "stream",
       "stream": "stdout",
       "text": [
        "http://127.0.0.1:9000/notebooks/ranking.ipynb 3024-dark\n",
        "http://127.0.0.1:9001/notebooks/ranking.ipynb 3024-light\n",
        "http://127.0.0.1:9002/notebooks/ranking.ipynb atelierdune-dark\n",
        "http://127.0.0.1:9003/notebooks/ranking.ipynb atelierdune-light\n",
        "http://127.0.0.1:9004/notebooks/ranking.ipynb atelierforest-dark\n",
        "http://127.0.0.1:9005/notebooks/ranking.ipynb atelierforest-light\n",
        "http://127.0.0.1:9006/notebooks/ranking.ipynb atelierheath-dark\n",
        "http://127.0.0.1:9007/notebooks/ranking.ipynb atelierheath-light\n",
        "http://127.0.0.1:9008/notebooks/ranking.ipynb atelierlakeside-dark\n",
        "http://127.0.0.1:9009/notebooks/ranking.ipynb atelierlakeside-light\n",
        "http://127.0.0.1:9010/notebooks/ranking.ipynb atelierseaside-dark\n",
        "http://127.0.0.1:9011/notebooks/ranking.ipynb atelierseaside-light\n",
        "http://127.0.0.1:9012/notebooks/ranking.ipynb bespin-dark\n",
        "http://127.0.0.1:9013/notebooks/ranking.ipynb bespin-light\n",
        "http://127.0.0.1:9014/notebooks/ranking.ipynb chalk-dark\n",
        "http://127.0.0.1:9015/notebooks/ranking.ipynb chalk-light\n",
        "http://127.0.0.1:9016/notebooks/ranking.ipynb default-dark\n",
        "http://127.0.0.1:9017/notebooks/ranking.ipynb default-light\n",
        "http://127.0.0.1:9018/notebooks/ranking.ipynb eighties-dark\n",
        "http://127.0.0.1:9019/notebooks/ranking.ipynb eighties-light\n",
        "http://127.0.0.1:9020/notebooks/ranking.ipynb grayscale-dark\n",
        "http://127.0.0.1:9021/notebooks/ranking.ipynb grayscale-light\n",
        "http://127.0.0.1:9022/notebooks/ranking.ipynb greenscreen-dark\n",
        "http://127.0.0.1:9023/notebooks/ranking.ipynb greenscreen-light\n",
        "http://127.0.0.1:9024/notebooks/ranking.ipynb isotope-dark\n",
        "http://127.0.0.1:9025/notebooks/ranking.ipynb isotope-light\n",
        "http://127.0.0.1:9026/notebooks/ranking.ipynb londontube-dark\n",
        "http://127.0.0.1:9027/notebooks/ranking.ipynb londontube-light\n",
        "http://127.0.0.1:9028/notebooks/ranking.ipynb marrakesh-dark\n",
        "http://127.0.0.1:9029/notebooks/ranking.ipynb marrakesh-light\n",
        "http://127.0.0.1:9030/notebooks/ranking.ipynb mocha-dark\n",
        "http://127.0.0.1:9031/notebooks/ranking.ipynb mocha-light\n",
        "http://127.0.0.1:9032/notebooks/ranking.ipynb monokai-dark\n",
        "http://127.0.0.1:9033/notebooks/ranking.ipynb monokai-light\n",
        "http://127.0.0.1:9034/notebooks/ranking.ipynb ocean-dark\n",
        "http://127.0.0.1:9035/notebooks/ranking.ipynb ocean-light\n",
        "http://127.0.0.1:9036/notebooks/ranking.ipynb paraiso-dark\n",
        "http://127.0.0.1:9037/notebooks/ranking.ipynb paraiso-light\n",
        "http://127.0.0.1:9038/notebooks/ranking.ipynb railscasts-dark\n",
        "http://127.0.0.1:9039/notebooks/ranking.ipynb railscasts-light\n",
        "http://127.0.0.1:9040/notebooks/ranking.ipynb shapeshifter-dark\n",
        "http://127.0.0.1:9041/notebooks/ranking.ipynb shapeshifter-light\n",
        "http://127.0.0.1:9042/notebooks/ranking.ipynb solarized-dark\n",
        "http://127.0.0.1:9043/notebooks/ranking.ipynb solarized-light\n",
        "http://127.0.0.1:9044/notebooks/ranking.ipynb tomorrow-dark\n",
        "http://127.0.0.1:9045/notebooks/ranking.ipynb tomorrow-light\n",
        "http://127.0.0.1:9046/notebooks/ranking.ipynb twilight-dark\n",
        "http://127.0.0.1:9047/notebooks/ranking.ipynb twilight-light\n"
       ]
      }
     ],
     "prompt_number": 6
    },
    {
     "cell_type": "code",
     "collapsed": false,
     "input": [],
     "language": "python",
     "metadata": {},
     "outputs": []
    }
   ],
   "metadata": {}
  }
 ]
}