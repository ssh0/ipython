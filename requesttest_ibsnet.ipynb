{
 "metadata": {
  "kernelspec": {
   "codemirror_mode": {
    "name": "ipython",
    "version": 2
   },
   "display_name": "IPython (Python 2)",
   "language": "python",
   "name": "python2"
  },
  "name": "",
  "signature": "sha256:30394cb9b13deb8152ed1ca2857b14596eeb3cba519fe4ae7afc9ae65e6e2ac3"
 },
 "nbformat": 3,
 "nbformat_minor": 0,
 "worksheets": [
  {
   "cells": [
    {
     "cell_type": "markdown",
     "metadata": {},
     "source": [
      "import Requests"
     ]
    },
    {
     "cell_type": "code",
     "collapsed": false,
     "input": [
      "import requests"
     ],
     "language": "python",
     "metadata": {},
     "outputs": [],
     "prompt_number": 2
    },
    {
     "cell_type": "markdown",
     "metadata": {},
     "source": [
      "http://zipcloud.ibsnet.co.jp/api/search \u306b\u30a2\u30af\u30bb\u30b9\u3002\u30d1\u30e9\u30e1\u30fc\u30bf\"zipcode\"\u306b\u90f5\u4fbf\u756a\u53f7\u3092\u6e21\u3059\u3068\u3001\u305d\u306e\u4f4f\u6240\u60c5\u5831\u3092\u5f97\u308b\u3053\u3068\u304c\u3067\u304d\u308b\u3002"
     ]
    },
    {
     "cell_type": "code",
     "collapsed": false,
     "input": [
      "payload = {'zipcode': 1600022}\n",
      "r = requests.get('http://zipcloud.ibsnet.co.jp/api/search', params=payload)"
     ],
     "language": "python",
     "metadata": {},
     "outputs": [],
     "prompt_number": 9
    },
    {
     "cell_type": "markdown",
     "metadata": {},
     "source": [
      "status_code\u3067\u3001\u30ec\u30b9\u30dd\u30f3\u30b9\u306e\u30b9\u30c6\u30fc\u30bf\u30b9\u3092\u8868\u793a"
     ]
    },
    {
     "cell_type": "code",
     "collapsed": false,
     "input": [
      "r.status_code"
     ],
     "language": "python",
     "metadata": {},
     "outputs": [
      {
       "metadata": {},
       "output_type": "pyout",
       "prompt_number": 10,
       "text": [
        "200"
       ]
      }
     ],
     "prompt_number": 10
    },
    {
     "cell_type": "markdown",
     "metadata": {},
     "source": [
      "\u30ec\u30b9\u30dd\u30f3\u30b9\u306e\u30d8\u30c3\u30c0\u30fc\u3092\u8868\u793a"
     ]
    },
    {
     "cell_type": "code",
     "collapsed": false,
     "input": [
      "r.headers"
     ],
     "language": "python",
     "metadata": {},
     "outputs": [
      {
       "metadata": {},
       "output_type": "pyout",
       "prompt_number": 11,
       "text": [
        "{'alternate-protocol': '80:quic,p=0.01,80:quic,p=0.01', 'transfer-encoding': 'chunked', 'vary': 'Accept-Encoding', 'server': 'Google Frontend', 'connection': 'Keep-Alive', 'cache-control': 'private', 'date': 'Sat, 27 Sep 2014 17:31:01 GMT', 'content-type': 'text/plain; charset=utf-8'}"
       ]
      }
     ],
     "prompt_number": 11
    },
    {
     "cell_type": "markdown",
     "metadata": {},
     "source": [
      "\u30ec\u30b9\u30dd\u30f3\u30b9\u306e\u30a8\u30f3\u30b3\u30fc\u30c9\u3092\u8868\u793a"
     ]
    },
    {
     "cell_type": "code",
     "collapsed": false,
     "input": [
      "r.encoding"
     ],
     "language": "python",
     "metadata": {},
     "outputs": [
      {
       "metadata": {},
       "output_type": "pyout",
       "prompt_number": 12,
       "text": [
        "'utf-8'"
       ]
      }
     ],
     "prompt_number": 12
    },
    {
     "cell_type": "markdown",
     "metadata": {},
     "source": [
      "\u30ec\u30b9\u30dd\u30f3\u30b9\u306e\u4e2d\u8eab\u3092\u8868\u793a\u3002Requests\u306e\u5185\u90e8\u3067\u81ea\u52d5\u3067\u30e6\u30cb\u30b3\u30fc\u30c9\u306b\u5909\u63db\u3057\u3066\u304f\u308c\u308b\u3002"
     ]
    },
    {
     "cell_type": "code",
     "collapsed": false,
     "input": [
      "r.text"
     ],
     "language": "python",
     "metadata": {},
     "outputs": [
      {
       "metadata": {},
       "output_type": "pyout",
       "prompt_number": 13,
       "text": [
        "u'{\\n\\t\"message\": null,\\n\\t\"results\": [\\n\\t\\t{\\n\\t\\t\\t\"address1\": \"\\u6771\\u4eac\\u90fd\",\\n\\t\\t\\t\"address2\": \"\\u65b0\\u5bbf\\u533a\",\\n\\t\\t\\t\"address3\": \"\\u65b0\\u5bbf\",\\n\\t\\t\\t\"kana1\": \"\\uff84\\uff73\\uff77\\uff6e\\uff73\\uff84\",\\n\\t\\t\\t\"kana2\": \"\\uff7c\\uff9d\\uff7c\\uff9e\\uff6d\\uff78\\uff78\",\\n\\t\\t\\t\"kana3\": \"\\uff7c\\uff9d\\uff7c\\uff9e\\uff6d\\uff78\",\\n\\t\\t\\t\"prefcode\": \"13\",\\n\\t\\t\\t\"zipcode\": \"1600022\"\\n\\t\\t}\\n\\t],\\n\\t\"status\": 200\\n}'"
       ]
      }
     ],
     "prompt_number": 13
    },
    {
     "cell_type": "markdown",
     "metadata": {},
     "source": [
      "\u8868\u793a\u3057\u3066\u307f\u308b\u3002"
     ]
    },
    {
     "cell_type": "code",
     "collapsed": false,
     "input": [
      "print r.text"
     ],
     "language": "python",
     "metadata": {},
     "outputs": [
      {
       "output_type": "stream",
       "stream": "stdout",
       "text": [
        "{\n",
        "\t\"message\": null,\n",
        "\t\"results\": [\n",
        "\t\t{\n",
        "\t\t\t\"address1\": \"\u6771\u4eac\u90fd\",\n",
        "\t\t\t\"address2\": \"\u65b0\u5bbf\u533a\",\n",
        "\t\t\t\"address3\": \"\u65b0\u5bbf\",\n",
        "\t\t\t\"kana1\": \"\uff84\uff73\uff77\uff6e\uff73\uff84\",\n",
        "\t\t\t\"kana2\": \"\uff7c\uff9d\uff7c\uff9e\uff6d\uff78\uff78\",\n",
        "\t\t\t\"kana3\": \"\uff7c\uff9d\uff7c\uff9e\uff6d\uff78\",\n",
        "\t\t\t\"prefcode\": \"13\",\n",
        "\t\t\t\"zipcode\": \"1600022\"\n",
        "\t\t}\n",
        "\t],\n",
        "\t\"status\": 200\n",
        "}\n"
       ]
      }
     ],
     "prompt_number": 14
    },
    {
     "cell_type": "markdown",
     "metadata": {},
     "source": [
      "json\u3067\u30ed\u30fc\u30c9\u3057\u3066\u3001\u5024\u3092\u53d6\u308a\u51fa\u3057\u3066\u307f\u308b\u3002"
     ]
    },
    {
     "cell_type": "code",
     "collapsed": false,
     "input": [
      "import json\n",
      "issue = json.loads(r.text)\n",
      "print issue['results'][0]['address1'], \\\n",
      "      issue['results'][0]['address2'], \\\n",
      "      issue['results'][0]['address3']"
     ],
     "language": "python",
     "metadata": {},
     "outputs": [
      {
       "output_type": "stream",
       "stream": "stdout",
       "text": [
        "\u6771\u4eac\u90fd \u65b0\u5bbf\u533a \u65b0\u5bbf\n"
       ]
      }
     ],
     "prompt_number": 15
    }
   ],
   "metadata": {}
  }
 ]
}