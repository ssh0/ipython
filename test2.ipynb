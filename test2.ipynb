{
 "metadata": {
  "name": ""
 },
 "nbformat": 3,
 "nbformat_minor": 0,
 "worksheets": [
  {
   "cells": [
    {
     "cell_type": "markdown",
     "metadata": {},
     "source": [
      "numpy\u3068for\u6587\u3067\u3069\u308c\u304f\u3089\u3044\u5dee\u304c\u51fa\u308b\u304b\u6bd4\u8f03\u3057\u3088\u3046\u3068\u3057\u305f\u3082\u306e\u300210"
     ]
    },
    {
     "cell_type": "code",
     "collapsed": false,
     "input": [
      "import numpy as np\n",
      "import matplotlib.pyplot as plt\n",
      "import time"
     ],
     "language": "python",
     "metadata": {},
     "outputs": [],
     "prompt_number": 1
    },
    {
     "cell_type": "code",
     "collapsed": false,
     "input": [
      "def func1(N):\n",
      "    stime = time.time()\n",
      "    x = np.linspace(0, 2*np.pi, N)\n",
      "    y = np.cos(x)\n",
      "    return time.time() - stime"
     ],
     "language": "python",
     "metadata": {},
     "outputs": [],
     "prompt_number": 2
    },
    {
     "cell_type": "code",
     "collapsed": false,
     "input": [
      "def func2(N):\n",
      "    stime = time.time()\n",
      "    x = [i*(2*np.pi)/float(N-1) for i in xrange(N)]\n",
      "    y = []\n",
      "    for _x in x:\n",
      "        y.append(np.cos(_x))\n",
      "    return time.time() - stime"
     ],
     "language": "python",
     "metadata": {},
     "outputs": [],
     "prompt_number": 3
    },
    {
     "cell_type": "code",
     "collapsed": false,
     "input": [
      "def search(x, N, dN):\n",
      "    while dN > 2:\n",
      "        while func2(N) < func1(N)*x:\n",
      "            N += dN\n",
      "        else:\n",
      "            dN = dN/2\n",
      "            N -= dN\n",
      "            search(x, N, dN)\n",
      "    result = N\n",
      "    return result"
     ],
     "language": "python",
     "metadata": {},
     "outputs": [],
     "prompt_number": 10
    },
    {
     "cell_type": "code",
     "collapsed": false,
     "input": [
      "def test(X):\n",
      "    a = np.arange(X)\n",
      "    b = []\n",
      "    for x in a:\n",
      "        b.append(search(x, 1000, 1000))\n",
      "    return b"
     ],
     "language": "python",
     "metadata": {},
     "outputs": [],
     "prompt_number": 15
    },
    {
     "cell_type": "code",
     "collapsed": false,
     "input": [
      "a = np.arange(30)\n",
      "b = test(30)"
     ],
     "language": "python",
     "metadata": {},
     "outputs": [],
     "prompt_number": 23
    },
    {
     "cell_type": "code",
     "collapsed": false,
     "input": [
      "f = plt.figure()\n",
      "ax = f.add_subplot(111)\n",
      "ax.set_xscale('linear')\n",
      "ax.set_yscale('log')\n",
      "ax.plot(a, np.array(b))\n",
      "plt.show()"
     ],
     "language": "python",
     "metadata": {},
     "outputs": [
      {
       "metadata": {},
       "output_type": "display_data",
       "png": "[encoded data removed]",
       "text": [
        "<matplotlib.figure.Figure at 0x7f60591e0690>"
       ]
      }
     ],
     "prompt_number": 25
    },
    {
     "cell_type": "code",
     "collapsed": false,
     "input": [],
     "language": "python",
     "metadata": {},
     "outputs": []
    }
   ],
   "metadata": {}
  }
 ]
}