{
 "metadata": {
  "name": "",
  "signature": "sha256:b5625f4b7d79348019b9728fe24e1d0b92daff3da699c451e3bd551754b8aa01"
 },
 "nbformat": 3,
 "nbformat_minor": 0,
 "worksheets": [
  {
   "cells": [
    {
     "cell_type": "heading",
     "level": 1,
     "metadata": {},
     "source": [
      "$\\LaTeX$ memo"
     ]
    },
    {
     "cell_type": "markdown",
     "metadata": {},
     "source": [
      "Using $\\LaTeX$, we sometimes forget codes for math relation symbols or Greek symbols, and so on.\n",
      "\n",
      "This notebook is the memo for the $\\LaTeX$ codes.\n",
      "\n",
      "Feel free to add any symbols or technics in here.\n",
      "\n",
      "TODO: support amsmath and amssymb."
     ]
    },
    {
     "cell_type": "markdown",
     "metadata": {},
     "source": [
      "\n",
      ">$\\log_{10}E = \\beta_{0} +  \\beta_{1}\\log_{10} M + \\beta_{2}(\\log_{10}M)^{2}$\n",
      "```tex\n",
      "\\log_{10}E = \\beta_{0} +  \\beta_{1}\\log_{10} M + \\beta_{2}(\\log_{10}M)^{2}\n",
      "```\n"
     ]
    },
    {
     "cell_type": "markdown",
     "metadata": {},
     "source": [
      ">$\\varepsilon$\n",
      "```tex\n",
      "\\varepsilon\n",
      "```"
     ]
    },
    {
     "cell_type": "markdown",
     "metadata": {},
     "source": [
      ">$\\rho$\n",
      "```tex\n",
      "\\rho\n",
      "```"
     ]
    },
    {
     "cell_type": "markdown",
     "metadata": {},
     "source": [
      ">$\\Psi$\n",
      "```tex\n",
      "\\Psi\n",
      "```"
     ]
    },
    {
     "cell_type": "markdown",
     "metadata": {},
     "source": [
      ">$\\hslash$\n",
      "```tex\n",
      "\\hslash\n",
      "```"
     ]
    },
    {
     "cell_type": "markdown",
     "metadata": {},
     "source": [
      ">$\\hbar$\n",
      "```tex\n",
      "\\hbar\n",
      "```"
     ]
    },
    {
     "cell_type": "markdown",
     "metadata": {},
     "source": [
      ">$\\acute{a}$\n",
      "```tex\n",
      "\\acute{a}\n",
      "```"
     ]
    },
    {
     "cell_type": "markdown",
     "metadata": {},
     "source": [
      ">$\\grave{a}$\n",
      "```tex\n",
      "\\grave{a}\n",
      "```"
     ]
    },
    {
     "cell_type": "markdown",
     "metadata": {},
     "source": [
      ">$\\check{a}$\n",
      "```tex\n",
      "\\check{a}\n",
      "```"
     ]
    },
    {
     "cell_type": "markdown",
     "metadata": {},
     "source": [
      ">$\\hat{a}$\n",
      "```tex\n",
      "\\hat{a}\n",
      "```"
     ]
    },
    {
     "cell_type": "markdown",
     "metadata": {},
     "source": [
      ">$\\tilde{a}$\n",
      "```tex\n",
      "\\tilde{a}\n",
      "```"
     ]
    },
    {
     "cell_type": "markdown",
     "metadata": {},
     "source": [
      ">$\\bar{a}$\n",
      "```tex\n",
      "\\bar{a}\n",
      "```"
     ]
    },
    {
     "cell_type": "markdown",
     "metadata": {},
     "source": [
      ">$\\vec{a}$\n",
      "```tex\n",
      "\\vec{a}\n",
      "```"
     ]
    },
    {
     "cell_type": "markdown",
     "metadata": {},
     "source": [
      ">$\\breve{a}$\n",
      "```tex\n",
      "\\breve{a}\n",
      "```"
     ]
    },
    {
     "cell_type": "markdown",
     "metadata": {},
     "source": [
      ">$\\dot{a}$\n",
      "```tex\n",
      "\\dot{a}\n",
      "```"
     ]
    },
    {
     "cell_type": "markdown",
     "metadata": {},
     "source": [
      ">$\\ddot{a}$\n",
      "```tex\n",
      "\\ddot{a}\n",
      "```"
     ]
    },
    {
     "cell_type": "markdown",
     "metadata": {},
     "source": [
      ">$\\dddot{a}$\n",
      "```tex\n",
      "\\dddot{a}\n",
      "```"
     ]
    },
    {
     "cell_type": "markdown",
     "metadata": {},
     "source": [
      ">$\\ddddot{a}$\n",
      "```tex\n",
      "\\ddddot{a}\n",
      "```"
     ]
    },
    {
     "cell_type": "markdown",
     "metadata": {},
     "source": [
      ">$\\mathring{a}$\n",
      "```tex\n",
      "\\mathring{a}\n",
      "```"
     ]
    },
    {
     "cell_type": "markdown",
     "metadata": {},
     "source": [
      ">$\\approx$\n",
      "```tex\n",
      "\\approx\n",
      "```"
     ]
    },
    {
     "cell_type": "markdown",
     "metadata": {},
     "source": [
      ">$\\sim$\n",
      "```tex\n",
      "\\sim\n",
      "```"
     ]
    },
    {
     "cell_type": "markdown",
     "metadata": {},
     "source": [
      ">$\\neq$\n",
      "```tex\n",
      "\\neq\n",
      "```"
     ]
    },
    {
     "cell_type": "markdown",
     "metadata": {},
     "source": [
      ">$\\Rightarrow$\n",
      "```tex\n",
      "\\Rightarrow\n",
      "```"
     ]
    },
    {
     "cell_type": "markdown",
     "metadata": {},
     "source": [
      ">$\\forall$\n",
      "```tex\n",
      "\\forall\n",
      "```"
     ]
    },
    {
     "cell_type": "markdown",
     "metadata": {},
     "source": [
      ">$$P(s_{1}s_{2}\\cdots s_{n}) = \\prod^{n}_{i=1}P(s_{i})$$\n",
      "```tex\n",
      "$$P(s_{1}s_{2}\\cdots s_{n}) = \\prod^{n}_{i=1}P(s_{i})$$\n",
      "```"
     ]
    },
    {
     "cell_type": "markdown",
     "metadata": {},
     "source": [
      ">$S = \\{ s_{1}, \\dots, s_{N}\\}$\n",
      "```tex\n",
      "$S = \\{ s_{1}, \\dots, s_{N}\\}$\n",
      "```"
     ]
    },
    {
     "cell_type": "markdown",
     "metadata": {},
     "source": [
      ">$$P(A_{j_{0}\\cdots ,j_{n}} | X_{0} = i) = \\left\\{ \\begin{array}{ll}\n",
      "p(j_{0},j_{1})\\cdots p(j_{n-1},j_{n}) & i=j_{0}\\text{\u306e\u5834\u5408},\\\\\n",
      "0 & i\\neq j_{0}\\text{\u306e\u5834\u5408}.\n",
      "\\end{array}\\right.$$\n",
      "```tex\n",
      "$$P(A_{j_{0}\\cdots ,j_{n}} | X_{0} = i) = \\left\\{ \\begin{array}{ll}\n",
      "p(j_{0},j_{1})\\cdots p(j_{n-1},j_{n}) & i=j_{0}\\text{\u306e\u5834\u5408},\\\\\n",
      "0 & i\\neq j_{0}\\text{\u306e\u5834\u5408}.\n",
      "\\end{array}\\right.$$\n",
      "```"
     ]
    },
    {
     "cell_type": "markdown",
     "metadata": {},
     "source": [
      ">$$\\begin{align}\\sum_{j} p^{(n+1)}(i,j) &= \\sum_{j}\\sum_{k}p(i,k)p^{(n)}(k,j)\\\\\n",
      "&= \\sum_{k}p(i,k)\\sum_{j}p^{(n)}(k,j) = \\sum_{k}p(i,k) = 1.\\ \\ \\ \\blacksquare \\end{align}$$\n",
      "```tex\n",
      "$$\\begin{align}\\sum_{j} p^{(n+1)}(i,j) &= \\sum_{j}\\sum_{k}p(i,k)p^{(n)}(k,j)\\\\\n",
      "&= \\sum_{k}p(i,k)\\sum_{j}p^{(n)}(k,j) = \\sum_{k}p(i,k) = 1.\\ \\ \\ \\blacksquare \\end{align}$$\n",
      "```"
     ]
    }
   ],
   "metadata": {}
  }
 ]
}