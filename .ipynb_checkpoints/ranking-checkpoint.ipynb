{
 "cells": [
  {
   "cell_type": "code",
   "execution_count": 6,
   "metadata": {
    "collapsed": false
   },
   "outputs": [],
   "source": [
    "import sys\n",
    "\n",
    "\n",
    "class Rank:\n",
    "\n",
    "    def __init__(self):\n",
    "        self.pair = []  # match pairs\n",
    "        self.rank = []  # sorted list\n",
    "\n",
    "#    def compare(self, a, b):\n",
    "#        print 'which ones do you like?'\n",
    "#        print '  [j]: %s, [k]: %s' % (a, b)\n",
    "#        key_input = raw_input(\">>> \")\n",
    "#        if key_input == 'j':\n",
    "#            ans = (a, b)\n",
    "#        elif key_input == 'k':\n",
    "#            ans = (b, a)\n",
    "#        else:\n",
    "#            raise ValueError('please select by \"j\" or \"k\".')\n",
    "#        return ans\n",
    "\n",
    "    def compare(self, a, b):\n",
    "        ans = (max(a, b), min(b, a))\n",
    "        return ans\n",
    "\n",
    "    def first_matching(self, data):\n",
    "        n = len(data)\n",
    "        N = 1\n",
    "        if n == 0:\n",
    "            self.final()\n",
    "        elif n == 1:\n",
    "            self.rank.append(data[0])\n",
    "            self.tournament(self.narrowing(data[0]))\n",
    "        else:\n",
    "            while n >= N:\n",
    "                N = N*2\n",
    "            unseed = 2*n - N\n",
    "            first_winner = []\n",
    "            for i in range(unseed/2):\n",
    "                a, b = data.pop(0), data.pop(0)\n",
    "                ans = self.compare(a, b)\n",
    "                g, l = ans[0], ans[1]\n",
    "                first_winner.append(g)\n",
    "                self.pair.append((g, l))            \n",
    "            data += first_winner\n",
    "            member = [(data[2*i], data[2*i+1]) for i in range(len(data)/2)]\n",
    "            return member\n",
    "\n",
    "    def tournament(self, data):\n",
    "        member = self.first_matching(data)         \n",
    "#        print member\n",
    "#        if not member:\n",
    "#            print \"member is empty\"\n",
    "#            self.final()\n",
    "        if len(member) > 1:\n",
    "            while len(member) > 1:\n",
    "                winner = []\n",
    "                for p in member:\n",
    "                    if (p[0], p[1]) in self.pair:\n",
    "                        winner.append(p[0])\n",
    "                    elif (p[1], p[0]) in self.pair:\n",
    "                        winner.append(p[1])\n",
    "                    else:\n",
    "                        ans = self.compare(p[0], p[1])\n",
    "                        g, l = ans[0], ans[1]\n",
    "                        self.pair.append((g, l))\n",
    "                        winner.append(g)\n",
    "                member = [(winner[2*i], winner[2*i+1]) for i in range(len(member)/2)]\n",
    "        if (member[0][0], member[0][1]) in self.pair:\n",
    "            top = member[0][0]\n",
    "        elif (member[0][1], member[0][0]) in self.pair:\n",
    "            top = member[0][1]\n",
    "        else:\n",
    "            ans = self.compare(member[0][0], member[0][1])\n",
    "            top, l = ans[0], ans[1]\n",
    "            self.pair.append((top, l))\n",
    "        self.rank.append(top)\n",
    "        \n",
    "#        print self.rank\n",
    "        return top\n",
    "\n",
    "    def narrowing(self, x):\n",
    "        unsort_table = []\n",
    "        for_delete = []\n",
    "        for i, pair in enumerate(self.pair):\n",
    "            if x == pair[0]:\n",
    "                unsort_table.append(pair[1])\n",
    "                for_delete.append(i)\n",
    "        for j in for_delete:\n",
    "            self.pair[j] = None\n",
    "        self.pair = [k for k in self.pair if k is not None]\n",
    "#        print unsort_table\n",
    "        return unsort_table\n",
    "    \n",
    "    def final(self):\n",
    "        for i, r in enumerate(self.rank):\n",
    "            print \"%d: %s\" % (i, r)\n",
    "        exit"
   ]
  },
  {
   "cell_type": "code",
   "execution_count": 7,
   "metadata": {
    "collapsed": false
   },
   "outputs": [
    {
     "name": "stdout",
     "output_type": "stream",
     "text": [
      "only one\n",
      "[9, 8, 7, 6, 5, 4, 3, 2, 1, 0]\n",
      "n = 0\n",
      "0: 9\n",
      "1: 8\n",
      "2: 7\n",
      "3: 6\n",
      "4: 5\n",
      "5: 4\n",
      "6: 3\n",
      "7: 2\n",
      "8: 1\n",
      "9: 0\n",
      "done\n"
     ]
    },
    {
     "ename": "UnboundLocalError",
     "evalue": "local variable 'member' referenced before assignment",
     "output_type": "error",
     "traceback": [
      "\u001b[1;31m---------------------------------------------------------------------------\u001b[0m",
      "\u001b[1;31mUnboundLocalError\u001b[0m                         Traceback (most recent call last)",
      "\u001b[1;32m<ipython-input-7-aab896df248f>\u001b[0m in \u001b[0;36m<module>\u001b[1;34m()\u001b[0m\n\u001b[0;32m     11\u001b[0m \u001b[0mqq\u001b[0m \u001b[1;33m=\u001b[0m \u001b[1;36m1\u001b[0m\u001b[1;33m\u001b[0m\u001b[0m\n\u001b[0;32m     12\u001b[0m \u001b[1;32mwhile\u001b[0m \u001b[0mTrue\u001b[0m\u001b[1;33m:\u001b[0m\u001b[1;33m\u001b[0m\u001b[0m\n\u001b[1;32m---> 13\u001b[1;33m     \u001b[0ma\u001b[0m \u001b[1;33m=\u001b[0m \u001b[0mranking\u001b[0m\u001b[1;33m(\u001b[0m\u001b[0ma\u001b[0m\u001b[1;33m)\u001b[0m\u001b[1;33m\u001b[0m\u001b[0m\n\u001b[0m\u001b[0;32m     14\u001b[0m     \u001b[0mqq\u001b[0m \u001b[1;33m+=\u001b[0m \u001b[1;36m1\u001b[0m\u001b[1;33m\u001b[0m\u001b[0m\n\u001b[0;32m     15\u001b[0m     \u001b[1;32mif\u001b[0m \u001b[0mqq\u001b[0m \u001b[1;33m>\u001b[0m \u001b[1;36m40\u001b[0m\u001b[1;33m:\u001b[0m\u001b[1;33m\u001b[0m\u001b[0m\n",
      "\u001b[1;32m<ipython-input-7-aab896df248f>\u001b[0m in \u001b[0;36mranking\u001b[1;34m(pair_lists)\u001b[0m\n\u001b[0;32m      5\u001b[0m \u001b[1;33m\u001b[0m\u001b[0m\n\u001b[0;32m      6\u001b[0m \u001b[1;32mdef\u001b[0m \u001b[0mranking\u001b[0m\u001b[1;33m(\u001b[0m\u001b[0mpair_lists\u001b[0m\u001b[1;33m)\u001b[0m\u001b[1;33m:\u001b[0m\u001b[1;33m\u001b[0m\u001b[0m\n\u001b[1;32m----> 7\u001b[1;33m     \u001b[0mresult\u001b[0m \u001b[1;33m=\u001b[0m \u001b[0mrank\u001b[0m\u001b[1;33m.\u001b[0m\u001b[0mnarrowing\u001b[0m\u001b[1;33m(\u001b[0m\u001b[0mrank\u001b[0m\u001b[1;33m.\u001b[0m\u001b[0mtournament\u001b[0m\u001b[1;33m(\u001b[0m\u001b[0mpair_lists\u001b[0m\u001b[1;33m)\u001b[0m\u001b[1;33m)\u001b[0m\u001b[1;33m\u001b[0m\u001b[0m\n\u001b[0m\u001b[0;32m      8\u001b[0m     \u001b[1;32mreturn\u001b[0m \u001b[0mresult\u001b[0m\u001b[1;33m\u001b[0m\u001b[0m\n\u001b[0;32m      9\u001b[0m \u001b[1;33m\u001b[0m\u001b[0m\n",
      "\u001b[1;32m<ipython-input-6-97729e784ae1>\u001b[0m in \u001b[0;36mtournament\u001b[1;34m(self, data)\u001b[0m\n\u001b[0;32m     60\u001b[0m \u001b[1;31m#            print \"member is empty\"\u001b[0m\u001b[1;33m\u001b[0m\u001b[1;33m\u001b[0m\u001b[0m\n\u001b[0;32m     61\u001b[0m \u001b[1;31m#            self.final()\u001b[0m\u001b[1;33m\u001b[0m\u001b[1;33m\u001b[0m\u001b[0m\n\u001b[1;32m---> 62\u001b[1;33m         \u001b[1;32mif\u001b[0m \u001b[0mlen\u001b[0m\u001b[1;33m(\u001b[0m\u001b[0mmember\u001b[0m\u001b[1;33m)\u001b[0m \u001b[1;33m>\u001b[0m \u001b[1;36m1\u001b[0m\u001b[1;33m:\u001b[0m\u001b[1;33m\u001b[0m\u001b[0m\n\u001b[0m\u001b[0;32m     63\u001b[0m             \u001b[1;32mwhile\u001b[0m \u001b[0mlen\u001b[0m\u001b[1;33m(\u001b[0m\u001b[0mmember\u001b[0m\u001b[1;33m)\u001b[0m \u001b[1;33m>\u001b[0m \u001b[1;36m1\u001b[0m\u001b[1;33m:\u001b[0m\u001b[1;33m\u001b[0m\u001b[0m\n\u001b[0;32m     64\u001b[0m                 \u001b[0mwinner\u001b[0m \u001b[1;33m=\u001b[0m \u001b[1;33m[\u001b[0m\u001b[1;33m]\u001b[0m\u001b[1;33m\u001b[0m\u001b[0m\n",
      "\u001b[1;31mUnboundLocalError\u001b[0m: local variable 'member' referenced before assignment"
     ]
    }
   ],
   "source": [
    "import numpy as np\n",
    "raw = [i for i in range(10)]\n",
    "data = list(np.random.choice(raw, 10, replace=False))\n",
    "rank = Rank()\n",
    "\n",
    "def ranking(pair_lists):\n",
    "    result = rank.narrowing(rank.tournament(pair_lists))\n",
    "    return result\n",
    "    \n",
    "a = ranking(data)\n",
    "qq = 1\n",
    "while True:\n",
    "    a = ranking(a)\n",
    "    qq += 1\n",
    "    if qq > 40:\n",
    "        print \"too many operation\"\n",
    "        rank.final()"
   ]
  },
  {
   "cell_type": "code",
   "execution_count": 23,
   "metadata": {
    "collapsed": false
   },
   "outputs": [
    {
     "name": "stdout",
     "output_type": "stream",
     "text": [
      "which ones do you like?\n",
      "  [j]: 0, [k]: 1\n",
      ">>> k\n",
      "which ones do you like?\n",
      "  [j]: 2, [k]: 3\n",
      ">>> k\n",
      "which ones do you like?\n",
      "  [j]: 4, [k]: 5\n",
      ">>> k\n",
      "which ones do you like?\n",
      "  [j]: 6, [k]: 7\n",
      ">>> k\n",
      "which ones do you like?\n",
      "  [j]: 8, [k]: 9\n",
      ">>> k\n",
      "which ones do you like?\n",
      "  [j]: 1, [k]: 3\n",
      ">>> k\n",
      "which ones do you like?\n",
      "  [j]: 5, [k]: 7\n",
      ">>> k\n",
      "which ones do you like?\n",
      "  [j]: 9, [k]: 3\n",
      ">>> j\n",
      "which ones do you like?\n",
      "  [j]: 7, [k]: 9\n",
      ">>> k\n",
      "['9']\n",
      "which ones do you like?\n",
      "  [j]: 8, [k]: 3\n",
      ">>> j\n",
      "which ones do you like?\n",
      "  [j]: 7, [k]: 8\n",
      ">>> k\n",
      "['9', '8']\n",
      "which ones do you like?\n",
      "  [j]: 3, [k]: 7\n",
      ">>> k\n",
      "['9', '8', '7']\n",
      "which ones do you like?\n",
      "  [j]: 6, [k]: 5\n",
      ">>> j\n",
      "which ones do you like?\n",
      "  [j]: 3, [k]: 6\n",
      ">>> k\n",
      "['9', '8', '7', '6']\n",
      "which ones do you like?\n",
      "  [j]: 5, [k]: 3\n",
      ">>> j\n",
      "['9', '8', '7', '6', '5']\n",
      "which ones do you like?\n",
      "  [j]: 4, [k]: 3\n",
      ">>> j\n",
      "['9', '8', '7', '6', '5', '4']\n",
      "only one\n",
      "['9', '8', '7', '6', '5', '4', '3']\n",
      "which ones do you like?\n",
      "  [j]: 2, [k]: 1\n",
      ">>> j\n",
      "['9', '8', '7', '6', '5', '4', '3', '2']\n"
     ]
    }
   ],
   "source": [
    "data = [str(i) for i in range(10)]\n",
    "rank = Rank()\n",
    "\n",
    "def ranking(pair_lists):\n",
    "    result = rank.narrowing(rank.tournament(pair_lists))\n",
    "    return result\n",
    "    \n",
    "a = ranking(data)\n",
    "qq = 1\n",
    "while len(rank.rank) < len(data):\n",
    "    a = ranking(a)\n",
    "    qq += 1\n",
    "    if qq > 30:\n",
    "        break"
   ]
  },
  {
   "cell_type": "code",
   "execution_count": 8,
   "metadata": {
    "collapsed": false
   },
   "outputs": [
    {
     "name": "stdout",
     "output_type": "stream",
     "text": [
      "[9, 8, 7, 6, 5, 4, 3, 2, 1, 0]\n",
      "[]\n"
     ]
    }
   ],
   "source": [
    "print rank.rank\n",
    "print rank.pair"
   ]
  },
  {
   "cell_type": "code",
   "execution_count": null,
   "metadata": {
    "collapsed": false
   },
   "outputs": [],
   "source": []
  }
 ],
 "metadata": {
  "kernelspec": {
   "display_name": "Python 2",
   "language": "python",
   "name": "python2"
  },
  "language_info": {
   "codemirror_mode": {
    "name": "ipython",
    "version": 2
   },
   "file_extension": ".py",
   "mimetype": "text/x-python",
   "name": "python",
   "nbconvert_exporter": "python",
   "pygments_lexer": "ipython2",
   "version": "2.7.6"
  }
 },
 "nbformat": 4,
 "nbformat_minor": 0
}
