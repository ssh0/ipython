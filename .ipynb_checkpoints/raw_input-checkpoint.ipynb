{
 "metadata": {
  "name": "",
  "signature": "sha256:e8cc76bd7fc360eecb090a0e0e67ea42db9bd01313842cd9fbac8f13844b50f5"
 },
 "nbformat": 3,
 "nbformat_minor": 0,
 "worksheets": [
  {
   "cells": [
    {
     "cell_type": "code",
     "collapsed": false,
     "input": [
      "name = raw_input(\"What is your name?\")\n",
      "name"
     ],
     "language": "python",
     "metadata": {},
     "outputs": [
      {
       "name": "stdout",
       "output_type": "stream",
       "stream": "stdout",
       "text": [
        "What is your name?Shotaro Fujimoto\n"
       ]
      },
      {
       "metadata": {},
       "output_type": "pyout",
       "prompt_number": 1,
       "text": [
        "'Shotaro Fujimoto'"
       ]
      }
     ],
     "prompt_number": 1
    }
   ],
   "metadata": {}
  }
 ]
}