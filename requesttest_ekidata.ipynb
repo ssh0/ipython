{
 "metadata": {
  "kernelspec": {
   "codemirror_mode": {
    "name": "ipython",
    "version": 2
   },
   "display_name": "IPython (Python 2)",
   "language": "python",
   "name": "python2"
  },
  "name": "",
  "signature": "sha256:f5acbc408734b57bbcdac10d275cc535273138b8235746ef04a7ce546e09a224"
 },
 "nbformat": 3,
 "nbformat_minor": 0,
 "worksheets": [
  {
   "cells": [
    {
     "cell_type": "code",
     "collapsed": false,
     "input": [
      "import requests"
     ],
     "language": "python",
     "metadata": {},
     "outputs": [],
     "prompt_number": 1
    },
    {
     "cell_type": "code",
     "collapsed": false,
     "input": [
      "r = requests.get('http://www.ekidata.jp/api/l/11302.json')"
     ],
     "language": "python",
     "metadata": {},
     "outputs": [],
     "prompt_number": 2
    },
    {
     "cell_type": "code",
     "collapsed": false,
     "input": [
      "print r.url"
     ],
     "language": "python",
     "metadata": {},
     "outputs": [
      {
       "output_type": "stream",
       "stream": "stdout",
       "text": [
        "http://www.ekidata.jp/api/l/11302.json\n"
       ]
      }
     ],
     "prompt_number": 3
    },
    {
     "cell_type": "code",
     "collapsed": false,
     "input": [
      "r.status_code"
     ],
     "language": "python",
     "metadata": {},
     "outputs": [
      {
       "metadata": {},
       "output_type": "pyout",
       "prompt_number": 4,
       "text": [
        "200"
       ]
      }
     ],
     "prompt_number": 4
    },
    {
     "cell_type": "code",
     "collapsed": false,
     "input": [
      "r.headers"
     ],
     "language": "python",
     "metadata": {},
     "outputs": [
      {
       "metadata": {},
       "output_type": "pyout",
       "prompt_number": 5,
       "text": [
        "{'content-length': '3266', 'accept-ranges': 'bytes', 'server': 'Apache', 'last-modified': 'Mon, 03 Mar 2014 11:08:21 GMT', 'connection': 'Keep-Alive', 'etag': '\"a420b-cc2-4f3b1ce323340\"', 'date': 'Mon, 29 Sep 2014 08:44:00 GMT', 'content-type': 'application/json; charset=utf-8', 'age': '0'}"
       ]
      }
     ],
     "prompt_number": 5
    },
    {
     "cell_type": "code",
     "collapsed": false,
     "input": [
      "r.encoding"
     ],
     "language": "python",
     "metadata": {},
     "outputs": [
      {
       "metadata": {},
       "output_type": "pyout",
       "prompt_number": 6,
       "text": [
        "'utf-8'"
       ]
      }
     ],
     "prompt_number": 6
    },
    {
     "cell_type": "code",
     "collapsed": false,
     "input": [
      "print r.text"
     ],
     "language": "python",
     "metadata": {},
     "outputs": [
      {
       "output_type": "stream",
       "stream": "stdout",
       "text": [
        "\n",
        "if(typeof(xml)=='undefined') xml = {};\n",
        "xml.data = {\"line_cd\":11302,\"line_name\":\"JR\u5c71\u624b\u7dda\",\"line_lon\":139.73522275686264,\"line_lat\":35.69302730762992,\"line_zoom\":12,\"station_l\":[{\"station_cd\":1130201,\"station_g_cd\":1130201,\"station_name\":\"\u5927\u5d0e\",\"lon\":139.728439,\"lat\":35.619772},{\"station_cd\":1130202,\"station_g_cd\":1130202,\"station_name\":\"\u4e94\u53cd\u7530\",\"lon\":139.723822,\"lat\":35.625974},{\"station_cd\":1130203,\"station_g_cd\":1130203,\"station_name\":\"\u76ee\u9ed2\",\"lon\":139.715775,\"lat\":35.633923},{\"station_cd\":1130204,\"station_g_cd\":1130204,\"station_name\":\"\u6075\u6bd4\u5bff\",\"lon\":139.71007,\"lat\":35.646685},{\"station_cd\":1130205,\"station_g_cd\":1130205,\"station_name\":\"\u6e0b\u8c37\",\"lon\":139.701238,\"lat\":35.658871},{\"station_cd\":1130206,\"station_g_cd\":1130206,\"station_name\":\"\u539f\u5bbf\",\"lon\":139.702592,\"lat\":35.670646},{\"station_cd\":1130207,\"station_g_cd\":1130207,\"station_name\":\"\u4ee3\u3005\u6728\",\"lon\":139.702042,\"lat\":35.683061},{\"station_cd\":1130208,\"station_g_cd\":1130208,\"station_name\":\"\u65b0\u5bbf\",\"lon\":139.700464,\"lat\":35.689729},{\"station_cd\":1130209,\"station_g_cd\":1130209,\"station_name\":\"\u65b0\u5927\u4e45\u4fdd\",\"lon\":139.700261,\"lat\":35.700875},{\"station_cd\":1130210,\"station_g_cd\":1130210,\"station_name\":\"\u9ad8\u7530\u99ac\u5834\",\"lon\":139.703715,\"lat\":35.712677},{\"station_cd\":1130211,\"station_g_cd\":1130211,\"station_name\":\"\u76ee\u767d\",\"lon\":139.706228,\"lat\":35.720476},{\"station_cd\":1130212,\"station_g_cd\":1130212,\"station_name\":\"\u6c60\u888b\",\"lon\":139.711086,\"lat\":35.730256},{\"station_cd\":1130213,\"station_g_cd\":1130213,\"station_name\":\"\u5927\u585a\",\"lon\":139.728584,\"lat\":35.731412},{\"station_cd\":1130214,\"station_g_cd\":1130214,\"station_name\":\"\u5de3\u9d28\",\"lon\":139.739303,\"lat\":35.733445},{\"station_cd\":1130215,\"station_g_cd\":1130215,\"station_name\":\"\u99d2\u8fbc\",\"lon\":139.748053,\"lat\":35.736825},{\"station_cd\":1130216,\"station_g_cd\":1130216,\"station_name\":\"\u7530\u7aef\",\"lon\":139.761229,\"lat\":35.737781},{\"station_cd\":1130217,\"station_g_cd\":1130217,\"station_name\":\"\u897f\u65e5\u66ae\u91cc\",\"lon\":139.766857,\"lat\":35.731954},{\"station_cd\":1130218,\"station_g_cd\":1130218,\"station_name\":\"\u65e5\u66ae\u91cc\",\"lon\":139.771287,\"lat\":35.727908},{\"station_cd\":1130219,\"station_g_cd\":1130219,\"station_name\":\"\u9daf\u8c37\",\"lon\":139.778015,\"lat\":35.721484},{\"station_cd\":1130220,\"station_g_cd\":1130220,\"station_name\":\"\u4e0a\u91ce\",\"lon\":139.777043,\"lat\":35.71379},{\"station_cd\":1130221,\"station_g_cd\":1130221,\"station_name\":\"\u5fa1\u5f92\u753a\",\"lon\":139.774727,\"lat\":35.707282},{\"station_cd\":1130222,\"station_g_cd\":1130222,\"station_name\":\"\u79cb\u8449\u539f\",\"lon\":139.773288,\"lat\":35.698619},{\"station_cd\":1130223,\"station_g_cd\":1130223,\"station_name\":\"\u795e\u7530\",\"lon\":139.770641,\"lat\":35.691173},{\"station_cd\":1130224,\"station_g_cd\":1130101,\"station_name\":\"\u6771\u4eac\",\"lon\":139.766103,\"lat\":35.681391},{\"station_cd\":1130225,\"station_g_cd\":1130225,\"station_name\":\"\u6709\u697d\u753a\",\"lon\":139.763806,\"lat\":35.675441},{\"station_cd\":1130226,\"station_g_cd\":1130102,\"station_name\":\"\u65b0\u6a4b\",\"lon\":139.758587,\"lat\":35.666195},{\"station_cd\":1130227,\"station_g_cd\":1130227,\"station_name\":\"\u6d5c\u677e\u753a\",\"lon\":139.757135,\"lat\":35.655391},{\"station_cd\":1130228,\"station_g_cd\":1130228,\"station_name\":\"\u7530\u753a\",\"lon\":139.747575,\"lat\":35.645736},{\"station_cd\":1130229,\"station_g_cd\":1130103,\"station_name\":\"\u54c1\u5ddd\",\"lon\":139.738999,\"lat\":35.62876}]}\n",
        "if(typeof(xml.onload)=='function') xml.onload(xml.data);\n",
        "\n"
       ]
      }
     ],
     "prompt_number": 7
    },
    {
     "cell_type": "code",
     "collapsed": false,
     "input": [
      "type(r.text)"
     ],
     "language": "python",
     "metadata": {},
     "outputs": [
      {
       "metadata": {},
       "output_type": "pyout",
       "prompt_number": 8,
       "text": [
        "unicode"
       ]
      }
     ],
     "prompt_number": 8
    },
    {
     "cell_type": "code",
     "collapsed": false,
     "input": [
      "import json\n",
      "decoder = json.JSONDecoder()\n",
      "obj, index = decoder.raw_decode(r.text.split('\\n')[2].replace('xml.data = ', ''))\n",
      "for d in obj['station_l']:\n",
      "    print d['station_name'].encode('utf-8')\n",
      "#data = json.dumps(obj, sort_keys=True, indent=4)\n",
      "#print data"
     ],
     "language": "python",
     "metadata": {},
     "outputs": [
      {
       "output_type": "stream",
       "stream": "stdout",
       "text": [
        "\u5927\u5d0e\n",
        "\u4e94\u53cd\u7530\n",
        "\u76ee\u9ed2\n",
        "\u6075\u6bd4\u5bff\n",
        "\u6e0b\u8c37\n",
        "\u539f\u5bbf\n",
        "\u4ee3\u3005\u6728\n",
        "\u65b0\u5bbf\n",
        "\u65b0\u5927\u4e45\u4fdd\n",
        "\u9ad8\u7530\u99ac\u5834\n",
        "\u76ee\u767d\n",
        "\u6c60\u888b\n",
        "\u5927\u585a\n",
        "\u5de3\u9d28\n",
        "\u99d2\u8fbc\n",
        "\u7530\u7aef\n",
        "\u897f\u65e5\u66ae\u91cc\n",
        "\u65e5\u66ae\u91cc\n",
        "\u9daf\u8c37\n",
        "\u4e0a\u91ce\n",
        "\u5fa1\u5f92\u753a\n",
        "\u79cb\u8449\u539f\n",
        "\u795e\u7530\n",
        "\u6771\u4eac\n",
        "\u6709\u697d\u753a\n",
        "\u65b0\u6a4b\n",
        "\u6d5c\u677e\u753a\n",
        "\u7530\u753a\n",
        "\u54c1\u5ddd\n"
       ]
      }
     ],
     "prompt_number": 10
    },
    {
     "cell_type": "code",
     "collapsed": false,
     "input": [],
     "language": "python",
     "metadata": {},
     "outputs": []
    }
   ],
   "metadata": {}
  }
 ]
}